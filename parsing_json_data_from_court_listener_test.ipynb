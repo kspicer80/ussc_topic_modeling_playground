{
 "cells": [
  {
   "cell_type": "code",
   "execution_count": 1,
   "metadata": {},
   "outputs": [],
   "source": [
    "import json\n",
    "import pandas as pd"
   ]
  },
  {
   "cell_type": "code",
   "execution_count": 2,
   "metadata": {},
   "outputs": [],
   "source": [
    "with open('/Users/spicy.kev/Desktop/opinion_json.json') as f:\n",
    "    data_load = json.load(f)"
   ]
  },
  {
   "cell_type": "code",
   "execution_count": 4,
   "metadata": {},
   "outputs": [
    {
     "name": "stdout",
     "output_type": "stream",
     "text": [
      "[{'count': 6171613, 'next': 'https://www.courtlistener.com/api/rest/v3/opinions/?page=2', 'previous': None, 'results': [{'resource_uri': 'https://www.courtlistener.com/api/rest/v3/opinions/6349839/', 'id': 6349839, 'absolute_url': '/opinion/6477728/state-v-raquino/', 'cluster': 'https://www.courtlistener.com/api/rest/v3/clusters/6477728/', 'author': 'Testing Author Entry 1', 'joined_by': [], 'date_created': '2022-06-14T18:02:12.702315-07:00', 'date_modified': '2022-06-14T18:02:19.604079-07:00', 'author_str': '', 'per_curiam': False, 'joined_by_str': '', 'type': '010combined', 'sha1': 'e087cf66b049453a4cdf767969fe9f211204ef9a', 'page_count': 2, 'download_url': 'https://www.courts.state.hi.us/wp-content/uploads/2022/06/CAAP-21-0000686dsm.pdf', 'local_path': 'pdf/2022/06/14/state_v._raquino.pdf', 'plain_text': 'Here is the plain text from the first entry ...', 'html': '', 'html_lawbox': '', 'html_columbia': '', 'html_anon_2020': '', 'xml_harvard': '', 'html_with_citations': '', 'extracted_by_ocr': False, 'opinions_cited': []}, {'resource_uri': 'https://www.courtlistener.com/api/rest/v3/opinions/6349838/', 'id': 6349838, 'absolute_url': '/opinion/6477727/bastani-v-american-federation-of-government-employees-afl-cio/', 'cluster': 'https://www.courtlistener.com/api/rest/v3/clusters/6477727/', 'author': 'Testing Author Entry 2', 'joined_by': [], 'date_created': '2022-06-14T18:00:49.131599-07:00', 'date_modified': '2022-06-14T18:19:41.337358-07:00', 'author_str': '', 'per_curiam': False, 'joined_by_str': '', 'type': '010combined', 'sha1': '298fb6e1e78f1b1f85d0c8323462deeb74a06802', 'page_count': 7, 'download_url': 'https://ecf.dcd.uscourts.gov/cgi-bin/show_public_doc?2020cv3061-18', 'local_path': 'pdf/2022/06/14/bastani_v._american_federation_of_government_employees_afl-cio.pdf', 'plain_text': 'Hello, here is some more plain text information!'}]}]\n"
     ]
    }
   ],
   "source": [
    "#print(type(data))\n",
    "print(data_load)"
   ]
  },
  {
   "cell_type": "code",
   "execution_count": 7,
   "metadata": {},
   "outputs": [
    {
     "name": "stdout",
     "output_type": "stream",
     "text": [
      "Testing Author Entry 1\n",
      "Testing Author Entry 2\n"
     ]
    }
   ],
   "source": [
    "print(data_load[0]['results'][0]['author'])\n",
    "print(data_load[0]['results'][1]['author'])"
   ]
  },
  {
   "cell_type": "code",
   "execution_count": 19,
   "metadata": {},
   "outputs": [],
   "source": [
    "df = pd.DataFrame(columns = ['author', 'page_count', 'plain_text'])"
   ]
  },
  {
   "cell_type": "code",
   "execution_count": 25,
   "metadata": {},
   "outputs": [
    {
     "data": {
      "text/plain": [
       "2"
      ]
     },
     "execution_count": 25,
     "metadata": {},
     "output_type": "execute_result"
    }
   ],
   "source": [
    "length_of_entries = len(data_load[0]['results'])\n",
    "length_of_entries"
   ]
  },
  {
   "cell_type": "code",
   "execution_count": 36,
   "metadata": {},
   "outputs": [
    {
     "data": {
      "text/html": [
       "<div>\n",
       "<style scoped>\n",
       "    .dataframe tbody tr th:only-of-type {\n",
       "        vertical-align: middle;\n",
       "    }\n",
       "\n",
       "    .dataframe tbody tr th {\n",
       "        vertical-align: top;\n",
       "    }\n",
       "\n",
       "    .dataframe thead th {\n",
       "        text-align: right;\n",
       "    }\n",
       "</style>\n",
       "<table border=\"1\" class=\"dataframe\">\n",
       "  <thead>\n",
       "    <tr style=\"text-align: right;\">\n",
       "      <th></th>\n",
       "      <th>author</th>\n",
       "      <th>page_counts</th>\n",
       "      <th>plain_text</th>\n",
       "    </tr>\n",
       "  </thead>\n",
       "  <tbody>\n",
       "    <tr>\n",
       "      <td>0</td>\n",
       "      <td>Testing Author Entry 1</td>\n",
       "      <td>2</td>\n",
       "      <td>Here is the plain text from the first entry ...</td>\n",
       "    </tr>\n",
       "    <tr>\n",
       "      <td>1</td>\n",
       "      <td>Testing Author Entry 2</td>\n",
       "      <td>7</td>\n",
       "      <td>Hello, here is some more plain text information!</td>\n",
       "    </tr>\n",
       "  </tbody>\n",
       "</table>\n",
       "</div>"
      ],
      "text/plain": [
       "                   author  page_counts  \\\n",
       "0  Testing Author Entry 1            2   \n",
       "1  Testing Author Entry 2            7   \n",
       "\n",
       "                                         plain_text  \n",
       "0   Here is the plain text from the first entry ...  \n",
       "1  Hello, here is some more plain text information!  "
      ]
     },
     "execution_count": 36,
     "metadata": {},
     "output_type": "execute_result"
    }
   ],
   "source": [
    "author_names = []\n",
    "page_counts = []\n",
    "plain_text = []\n",
    "\n",
    "for i in range(0, length_of_entries):\n",
    "    author_names.append(data_load[0]['results'][i]['author'])\n",
    "    page_counts.append(data_load[0]['results'][i]['page_count'])\n",
    "    plain_text.append(data_load[0]['results'][i]['plain_text'])\n",
    "\n",
    "df = pd.DataFrame(\n",
    "    {'author': author_names,\n",
    "     'page_counts': page_counts,\n",
    "     'plain_text': plain_text\n",
    "    }\n",
    "    )\n",
    "\n",
    "df"
   ]
  },
  {
   "cell_type": "code",
   "execution_count": null,
   "metadata": {},
   "outputs": [],
   "source": []
  }
 ],
 "metadata": {
  "kernelspec": {
   "display_name": "Python 3.7.4 64-bit",
   "language": "python",
   "name": "python3"
  },
  "language_info": {
   "codemirror_mode": {
    "name": "ipython",
    "version": 3
   },
   "file_extension": ".py",
   "mimetype": "text/x-python",
   "name": "python",
   "nbconvert_exporter": "python",
   "pygments_lexer": "ipython3",
   "version": "3.7.4"
  },
  "orig_nbformat": 4,
  "vscode": {
   "interpreter": {
    "hash": "aee8b7b246df8f9039afb4144a1f6fd8d2ca17a180786b69acc140d282b71a49"
   }
  }
 },
 "nbformat": 4,
 "nbformat_minor": 2
}
