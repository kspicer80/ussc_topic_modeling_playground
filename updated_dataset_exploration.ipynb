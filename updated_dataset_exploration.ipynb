{
 "cells": [
  {
   "cell_type": "code",
   "execution_count": 26,
   "metadata": {},
   "outputs": [],
   "source": [
    "import json\n",
    "import pandas as pd"
   ]
  },
  {
   "cell_type": "code",
   "execution_count": 28,
   "metadata": {},
   "outputs": [],
   "source": [
    "with open('2016_to_today_opinions.json') as f:\n",
    "    data_load = json.load(f)"
   ]
  },
  {
   "cell_type": "code",
   "execution_count": 30,
   "metadata": {},
   "outputs": [],
   "source": [
    "df = pd.DataFrame(data_load)"
   ]
  },
  {
   "cell_type": "code",
   "execution_count": 31,
   "metadata": {},
   "outputs": [
    {
     "data": {
      "text/html": [
       "<div>\n",
       "<style scoped>\n",
       "    .dataframe tbody tr th:only-of-type {\n",
       "        vertical-align: middle;\n",
       "    }\n",
       "\n",
       "    .dataframe tbody tr th {\n",
       "        vertical-align: top;\n",
       "    }\n",
       "\n",
       "    .dataframe thead th {\n",
       "        text-align: right;\n",
       "    }\n",
       "</style>\n",
       "<table border=\"1\" class=\"dataframe\">\n",
       "  <thead>\n",
       "    <tr style=\"text-align: right;\">\n",
       "      <th></th>\n",
       "      <th>count</th>\n",
       "      <th>next</th>\n",
       "      <th>previous</th>\n",
       "      <th>results</th>\n",
       "    </tr>\n",
       "  </thead>\n",
       "  <tbody>\n",
       "    <tr>\n",
       "      <th>0</th>\n",
       "      <td>121340</td>\n",
       "      <td>https://www.courtlistener.com/api/rest/v3/opin...</td>\n",
       "      <td>None</td>\n",
       "      <td>{'resource_uri': 'https://www.courtlistener.co...</td>\n",
       "    </tr>\n",
       "    <tr>\n",
       "      <th>1</th>\n",
       "      <td>121340</td>\n",
       "      <td>https://www.courtlistener.com/api/rest/v3/opin...</td>\n",
       "      <td>None</td>\n",
       "      <td>{'resource_uri': 'https://www.courtlistener.co...</td>\n",
       "    </tr>\n",
       "    <tr>\n",
       "      <th>2</th>\n",
       "      <td>121340</td>\n",
       "      <td>https://www.courtlistener.com/api/rest/v3/opin...</td>\n",
       "      <td>None</td>\n",
       "      <td>{'resource_uri': 'https://www.courtlistener.co...</td>\n",
       "    </tr>\n",
       "    <tr>\n",
       "      <th>3</th>\n",
       "      <td>121340</td>\n",
       "      <td>https://www.courtlistener.com/api/rest/v3/opin...</td>\n",
       "      <td>None</td>\n",
       "      <td>{'resource_uri': 'https://www.courtlistener.co...</td>\n",
       "    </tr>\n",
       "    <tr>\n",
       "      <th>4</th>\n",
       "      <td>121340</td>\n",
       "      <td>https://www.courtlistener.com/api/rest/v3/opin...</td>\n",
       "      <td>None</td>\n",
       "      <td>{'resource_uri': 'https://www.courtlistener.co...</td>\n",
       "    </tr>\n",
       "  </tbody>\n",
       "</table>\n",
       "</div>"
      ],
      "text/plain": [
       "    count                                               next previous  \\\n",
       "0  121340  https://www.courtlistener.com/api/rest/v3/opin...     None   \n",
       "1  121340  https://www.courtlistener.com/api/rest/v3/opin...     None   \n",
       "2  121340  https://www.courtlistener.com/api/rest/v3/opin...     None   \n",
       "3  121340  https://www.courtlistener.com/api/rest/v3/opin...     None   \n",
       "4  121340  https://www.courtlistener.com/api/rest/v3/opin...     None   \n",
       "\n",
       "                                             results  \n",
       "0  {'resource_uri': 'https://www.courtlistener.co...  \n",
       "1  {'resource_uri': 'https://www.courtlistener.co...  \n",
       "2  {'resource_uri': 'https://www.courtlistener.co...  \n",
       "3  {'resource_uri': 'https://www.courtlistener.co...  \n",
       "4  {'resource_uri': 'https://www.courtlistener.co...  "
      ]
     },
     "execution_count": 31,
     "metadata": {},
     "output_type": "execute_result"
    }
   ],
   "source": [
    "df.head()"
   ]
  },
  {
   "cell_type": "code",
   "execution_count": 41,
   "metadata": {},
   "outputs": [
    {
     "ename": "AttributeError",
     "evalue": "'function' object has no attribute 'explode'",
     "output_type": "error",
     "traceback": [
      "\u001b[1;31m---------------------------------------------------------------------------\u001b[0m",
      "\u001b[1;31mAttributeError\u001b[0m                            Traceback (most recent call last)",
      "\u001b[1;32mc:\\Users\\KSpicer\\Documents\\GitHub\\ussc_topic_modeling_playground\\updated_dataset_exploration.ipynb Cell 5\u001b[0m in \u001b[0;36m<cell line: 2>\u001b[1;34m()\u001b[0m\n\u001b[0;32m      <a href='vscode-notebook-cell:/c%3A/Users/KSpicer/Documents/GitHub/ussc_topic_modeling_playground/updated_dataset_exploration.ipynb#X12sZmlsZQ%3D%3D?line=0'>1</a>\u001b[0m \u001b[39m#df = df.explode()\u001b[39;00m\n\u001b[1;32m----> <a href='vscode-notebook-cell:/c%3A/Users/KSpicer/Documents/GitHub/ussc_topic_modeling_playground/updated_dataset_exploration.ipynb#X12sZmlsZQ%3D%3D?line=1'>2</a>\u001b[0m df \u001b[39m=\u001b[39m df\u001b[39m.\u001b[39;49mexplode(\u001b[39m'\u001b[39m\u001b[39mresults\u001b[39m\u001b[39m'\u001b[39m)\n",
      "\u001b[1;31mAttributeError\u001b[0m: 'function' object has no attribute 'explode'"
     ]
    }
   ],
   "source": [
    "#df = df.explode()\n",
    "df = df.explode('results')"
   ]
  },
  {
   "cell_type": "code",
   "execution_count": 35,
   "metadata": {},
   "outputs": [],
   "source": [
    "df = pd.read_json('2016_to_today_opinions.json', lines=True, orient='columns')"
   ]
  },
  {
   "cell_type": "code",
   "execution_count": 36,
   "metadata": {},
   "outputs": [
    {
     "data": {
      "text/plain": [
       "Index(['count', 'next', 'previous', 'results'], dtype='object')"
      ]
     },
     "execution_count": 36,
     "metadata": {},
     "output_type": "execute_result"
    }
   ],
   "source": [
    "df.columns"
   ]
  },
  {
   "cell_type": "code",
   "execution_count": 23,
   "metadata": {},
   "outputs": [
    {
     "data": {
      "text/plain": [
       "0             resource_uri\n",
       "1                       id\n",
       "2             absolute_url\n",
       "3                  cluster\n",
       "4                   author\n",
       "              ...         \n",
       "495         html_anon_2020\n",
       "496            xml_harvard\n",
       "497    html_with_citations\n",
       "498       extracted_by_ocr\n",
       "499         opinions_cited\n",
       "Name: results, Length: 500, dtype: object"
      ]
     },
     "execution_count": 23,
     "metadata": {},
     "output_type": "execute_result"
    }
   ],
   "source": [
    "df.explode('results')"
   ]
  },
  {
   "cell_type": "code",
   "execution_count": 24,
   "metadata": {},
   "outputs": [
    {
     "data": {
      "text/plain": [
       "0    resource_uri\n",
       "1              id\n",
       "2    absolute_url\n",
       "3         cluster\n",
       "4          author\n",
       "Name: results, dtype: object"
      ]
     },
     "execution_count": 24,
     "metadata": {},
     "output_type": "execute_result"
    }
   ],
   "source": [
    "df.head()"
   ]
  },
  {
   "cell_type": "code",
   "execution_count": null,
   "metadata": {},
   "outputs": [],
   "source": []
  }
 ],
 "metadata": {
  "kernelspec": {
   "display_name": "Python 3.9.12 ('victorian_authorship_env')",
   "language": "python",
   "name": "python3"
  },
  "language_info": {
   "codemirror_mode": {
    "name": "ipython",
    "version": 3
   },
   "file_extension": ".py",
   "mimetype": "text/x-python",
   "name": "python",
   "nbconvert_exporter": "python",
   "pygments_lexer": "ipython3",
   "version": "3.9.12"
  },
  "orig_nbformat": 4,
  "vscode": {
   "interpreter": {
    "hash": "ef5d861bb1be136369da2a14d97f47e042662aed23f513481be9d838db3326bb"
   }
  }
 },
 "nbformat": 4,
 "nbformat_minor": 2
}
