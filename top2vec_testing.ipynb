{
 "cells": [
  {
   "cell_type": "code",
   "execution_count": 2,
   "metadata": {},
   "outputs": [],
   "source": [
    "import pandas as pd\n",
    "from top2vec import Top2Vec"
   ]
  },
  {
   "cell_type": "code",
   "execution_count": 3,
   "metadata": {},
   "outputs": [],
   "source": [
    "file = '/Users/spicy.kev/Documents/github/supreme_court_opinion_topic_modeling/data/opinions_since_1970.csv'"
   ]
  },
  {
   "cell_type": "code",
   "execution_count": 4,
   "metadata": {},
   "outputs": [
    {
     "data": {
      "text/html": [
       "<div>\n",
       "<style scoped>\n",
       "    .dataframe tbody tr th:only-of-type {\n",
       "        vertical-align: middle;\n",
       "    }\n",
       "\n",
       "    .dataframe tbody tr th {\n",
       "        vertical-align: top;\n",
       "    }\n",
       "\n",
       "    .dataframe thead th {\n",
       "        text-align: right;\n",
       "    }\n",
       "</style>\n",
       "<table border=\"1\" class=\"dataframe\">\n",
       "  <thead>\n",
       "    <tr style=\"text-align: right;\">\n",
       "      <th></th>\n",
       "      <th>author_name</th>\n",
       "      <th>category</th>\n",
       "      <th>per_curiam</th>\n",
       "      <th>case_name</th>\n",
       "      <th>date_filed</th>\n",
       "      <th>federal_cite_one</th>\n",
       "      <th>absolute_url</th>\n",
       "      <th>cluster</th>\n",
       "      <th>year_filed</th>\n",
       "      <th>scdb_id</th>\n",
       "      <th>scdb_decision_direction</th>\n",
       "      <th>scdb_votes_majority</th>\n",
       "      <th>scdb_votes_minority</th>\n",
       "      <th>text</th>\n",
       "    </tr>\n",
       "  </thead>\n",
       "  <tbody>\n",
       "    <tr>\n",
       "      <th>0</th>\n",
       "      <td>Justice Roberts</td>\n",
       "      <td>majority</td>\n",
       "      <td>False</td>\n",
       "      <td>McCutcheon v. Federal Election Comm'n</td>\n",
       "      <td>2014-04-02</td>\n",
       "      <td>NaN</td>\n",
       "      <td>https://www.courtlistener.com/opinion/2659301/...</td>\n",
       "      <td>https://www.courtlistener.com/api/rest/v3/clus...</td>\n",
       "      <td>2014</td>\n",
       "      <td>2013-033</td>\n",
       "      <td>1.0</td>\n",
       "      <td>5.0</td>\n",
       "      <td>4.0</td>\n",
       "      <td>There is no right more basic in our democracy ...</td>\n",
       "    </tr>\n",
       "    <tr>\n",
       "      <th>1</th>\n",
       "      <td>Justice Thomas</td>\n",
       "      <td>concurring</td>\n",
       "      <td>False</td>\n",
       "      <td>McCutcheon v. Federal Election Comm'n</td>\n",
       "      <td>2014-04-02</td>\n",
       "      <td>NaN</td>\n",
       "      <td>https://www.courtlistener.com/opinion/2659301/...</td>\n",
       "      <td>https://www.courtlistener.com/api/rest/v3/clus...</td>\n",
       "      <td>2014</td>\n",
       "      <td>2013-033</td>\n",
       "      <td>1.0</td>\n",
       "      <td>5.0</td>\n",
       "      <td>4.0</td>\n",
       "      <td>I adhere to the view that this Court’s decisio...</td>\n",
       "    </tr>\n",
       "    <tr>\n",
       "      <th>2</th>\n",
       "      <td>Justice Breyer</td>\n",
       "      <td>dissenting</td>\n",
       "      <td>False</td>\n",
       "      <td>McCutcheon v. Federal Election Comm'n</td>\n",
       "      <td>2014-04-02</td>\n",
       "      <td>NaN</td>\n",
       "      <td>https://www.courtlistener.com/opinion/2659301/...</td>\n",
       "      <td>https://www.courtlistener.com/api/rest/v3/clus...</td>\n",
       "      <td>2014</td>\n",
       "      <td>2013-033</td>\n",
       "      <td>1.0</td>\n",
       "      <td>5.0</td>\n",
       "      <td>4.0</td>\n",
       "      <td>Nearly 40 years ago in Buckley v. Valeo, 424 U...</td>\n",
       "    </tr>\n",
       "    <tr>\n",
       "      <th>3</th>\n",
       "      <td>Justice Kagan</td>\n",
       "      <td>majority</td>\n",
       "      <td>False</td>\n",
       "      <td>Kaley v. United States</td>\n",
       "      <td>2014-02-25</td>\n",
       "      <td>NaN</td>\n",
       "      <td>https://www.courtlistener.com/opinion/2654533/...</td>\n",
       "      <td>https://www.courtlistener.com/api/rest/v3/clus...</td>\n",
       "      <td>2014</td>\n",
       "      <td>NaN</td>\n",
       "      <td>NaN</td>\n",
       "      <td>NaN</td>\n",
       "      <td>NaN</td>\n",
       "      <td>A federal statute, 21 U.S. C. §853(e), authori...</td>\n",
       "    </tr>\n",
       "    <tr>\n",
       "      <th>4</th>\n",
       "      <td>Justice Roberts</td>\n",
       "      <td>dissenting</td>\n",
       "      <td>False</td>\n",
       "      <td>Kaley v. United States</td>\n",
       "      <td>2014-02-25</td>\n",
       "      <td>NaN</td>\n",
       "      <td>https://www.courtlistener.com/opinion/2654533/...</td>\n",
       "      <td>https://www.courtlistener.com/api/rest/v3/clus...</td>\n",
       "      <td>2014</td>\n",
       "      <td>NaN</td>\n",
       "      <td>NaN</td>\n",
       "      <td>NaN</td>\n",
       "      <td>NaN</td>\n",
       "      <td>An individual facing serious criminal charges ...</td>\n",
       "    </tr>\n",
       "  </tbody>\n",
       "</table>\n",
       "</div>"
      ],
      "text/plain": [
       "       author_name    category  per_curiam  \\\n",
       "0  Justice Roberts    majority       False   \n",
       "1   Justice Thomas  concurring       False   \n",
       "2   Justice Breyer  dissenting       False   \n",
       "3    Justice Kagan    majority       False   \n",
       "4  Justice Roberts  dissenting       False   \n",
       "\n",
       "                               case_name  date_filed federal_cite_one  \\\n",
       "0  McCutcheon v. Federal Election Comm'n  2014-04-02              NaN   \n",
       "1  McCutcheon v. Federal Election Comm'n  2014-04-02              NaN   \n",
       "2  McCutcheon v. Federal Election Comm'n  2014-04-02              NaN   \n",
       "3                 Kaley v. United States  2014-02-25              NaN   \n",
       "4                 Kaley v. United States  2014-02-25              NaN   \n",
       "\n",
       "                                        absolute_url  \\\n",
       "0  https://www.courtlistener.com/opinion/2659301/...   \n",
       "1  https://www.courtlistener.com/opinion/2659301/...   \n",
       "2  https://www.courtlistener.com/opinion/2659301/...   \n",
       "3  https://www.courtlistener.com/opinion/2654533/...   \n",
       "4  https://www.courtlistener.com/opinion/2654533/...   \n",
       "\n",
       "                                             cluster  year_filed   scdb_id  \\\n",
       "0  https://www.courtlistener.com/api/rest/v3/clus...        2014  2013-033   \n",
       "1  https://www.courtlistener.com/api/rest/v3/clus...        2014  2013-033   \n",
       "2  https://www.courtlistener.com/api/rest/v3/clus...        2014  2013-033   \n",
       "3  https://www.courtlistener.com/api/rest/v3/clus...        2014       NaN   \n",
       "4  https://www.courtlistener.com/api/rest/v3/clus...        2014       NaN   \n",
       "\n",
       "   scdb_decision_direction  scdb_votes_majority  scdb_votes_minority  \\\n",
       "0                      1.0                  5.0                  4.0   \n",
       "1                      1.0                  5.0                  4.0   \n",
       "2                      1.0                  5.0                  4.0   \n",
       "3                      NaN                  NaN                  NaN   \n",
       "4                      NaN                  NaN                  NaN   \n",
       "\n",
       "                                                text  \n",
       "0  There is no right more basic in our democracy ...  \n",
       "1  I adhere to the view that this Court’s decisio...  \n",
       "2  Nearly 40 years ago in Buckley v. Valeo, 424 U...  \n",
       "3  A federal statute, 21 U.S. C. §853(e), authori...  \n",
       "4  An individual facing serious criminal charges ...  "
      ]
     },
     "execution_count": 4,
     "metadata": {},
     "output_type": "execute_result"
    }
   ],
   "source": [
    "df = pd.read_csv(file)\n",
    "df.head()"
   ]
  },
  {
   "cell_type": "code",
   "execution_count": 7,
   "metadata": {},
   "outputs": [],
   "source": [
    "docs = df.text.tolist()"
   ]
  },
  {
   "cell_type": "code",
   "execution_count": 8,
   "metadata": {},
   "outputs": [
    {
     "name": "stderr",
     "output_type": "stream",
     "text": [
      "2022-07-03 15:20:33,900 - top2vec - INFO - Pre-processing documents for training\n",
      "2022-07-03 15:22:29,083 - top2vec - INFO - Creating joint document/word embedding\n",
      "2022-07-03 17:34:02,215 - top2vec - INFO - Creating lower dimension embedding of documents\n",
      "2022-07-03 17:34:40,664 - top2vec - INFO - Finding dense areas of documents\n",
      "2022-07-03 17:34:41,313 - top2vec - INFO - Finding topics\n"
     ]
    }
   ],
   "source": [
    "model = Top2Vec(docs)"
   ]
  },
  {
   "cell_type": "code",
   "execution_count": 9,
   "metadata": {},
   "outputs": [],
   "source": [
    "model.save(\"first_dry_run_with_opinions_from_1970_on\")"
   ]
  }
 ],
 "metadata": {
  "kernelspec": {
   "display_name": "Python 3.9.12 ('nlp')",
   "language": "python",
   "name": "python3"
  },
  "language_info": {
   "codemirror_mode": {
    "name": "ipython",
    "version": 3
   },
   "file_extension": ".py",
   "mimetype": "text/x-python",
   "name": "python",
   "nbconvert_exporter": "python",
   "pygments_lexer": "ipython3",
   "version": "3.9.12"
  },
  "orig_nbformat": 4,
  "vscode": {
   "interpreter": {
    "hash": "75edb825c87a0a6a7d95357b6ff5e82dfc93866b13e30996819bc52b6af5b8b6"
   }
  }
 },
 "nbformat": 4,
 "nbformat_minor": 2
}
