{
 "cells": [
  {
   "cell_type": "code",
   "execution_count": 2,
   "metadata": {},
   "outputs": [],
   "source": [
    "import pandas as pd\n",
    "from top2vec import Top2Vec"
   ]
  },
  {
   "cell_type": "code",
   "execution_count": 3,
   "metadata": {},
   "outputs": [],
   "source": [
    "file = '/Users/spicy.kev/Documents/github/supreme_court_opinion_topic_modeling/data/opinions_since_1970.csv'"
   ]
  },
  {
   "cell_type": "code",
   "execution_count": 4,
   "metadata": {},
   "outputs": [
    {
     "data": {
      "text/html": [
       "<div>\n",
       "<style scoped>\n",
       "    .dataframe tbody tr th:only-of-type {\n",
       "        vertical-align: middle;\n",
       "    }\n",
       "\n",
       "    .dataframe tbody tr th {\n",
       "        vertical-align: top;\n",
       "    }\n",
       "\n",
       "    .dataframe thead th {\n",
       "        text-align: right;\n",
       "    }\n",
       "</style>\n",
       "<table border=\"1\" class=\"dataframe\">\n",
       "  <thead>\n",
       "    <tr style=\"text-align: right;\">\n",
       "      <th></th>\n",
       "      <th>author_name</th>\n",
       "      <th>category</th>\n",
       "      <th>per_curiam</th>\n",
       "      <th>case_name</th>\n",
       "      <th>date_filed</th>\n",
       "      <th>federal_cite_one</th>\n",
       "      <th>absolute_url</th>\n",
       "      <th>cluster</th>\n",
       "      <th>year_filed</th>\n",
       "      <th>scdb_id</th>\n",
       "      <th>scdb_decision_direction</th>\n",
       "      <th>scdb_votes_majority</th>\n",
       "      <th>scdb_votes_minority</th>\n",
       "      <th>text</th>\n",
       "    </tr>\n",
       "  </thead>\n",
       "  <tbody>\n",
       "    <tr>\n",
       "      <th>0</th>\n",
       "      <td>Justice Roberts</td>\n",
       "      <td>majority</td>\n",
       "      <td>False</td>\n",
       "      <td>McCutcheon v. Federal Election Comm'n</td>\n",
       "      <td>2014-04-02</td>\n",
       "      <td>NaN</td>\n",
       "      <td>https://www.courtlistener.com/opinion/2659301/...</td>\n",
       "      <td>https://www.courtlistener.com/api/rest/v3/clus...</td>\n",
       "      <td>2014</td>\n",
       "      <td>2013-033</td>\n",
       "      <td>1.0</td>\n",
       "      <td>5.0</td>\n",
       "      <td>4.0</td>\n",
       "      <td>There is no right more basic in our democracy ...</td>\n",
       "    </tr>\n",
       "    <tr>\n",
       "      <th>1</th>\n",
       "      <td>Justice Thomas</td>\n",
       "      <td>concurring</td>\n",
       "      <td>False</td>\n",
       "      <td>McCutcheon v. Federal Election Comm'n</td>\n",
       "      <td>2014-04-02</td>\n",
       "      <td>NaN</td>\n",
       "      <td>https://www.courtlistener.com/opinion/2659301/...</td>\n",
       "      <td>https://www.courtlistener.com/api/rest/v3/clus...</td>\n",
       "      <td>2014</td>\n",
       "      <td>2013-033</td>\n",
       "      <td>1.0</td>\n",
       "      <td>5.0</td>\n",
       "      <td>4.0</td>\n",
       "      <td>I adhere to the view that this Court’s decisio...</td>\n",
       "    </tr>\n",
       "    <tr>\n",
       "      <th>2</th>\n",
       "      <td>Justice Breyer</td>\n",
       "      <td>dissenting</td>\n",
       "      <td>False</td>\n",
       "      <td>McCutcheon v. Federal Election Comm'n</td>\n",
       "      <td>2014-04-02</td>\n",
       "      <td>NaN</td>\n",
       "      <td>https://www.courtlistener.com/opinion/2659301/...</td>\n",
       "      <td>https://www.courtlistener.com/api/rest/v3/clus...</td>\n",
       "      <td>2014</td>\n",
       "      <td>2013-033</td>\n",
       "      <td>1.0</td>\n",
       "      <td>5.0</td>\n",
       "      <td>4.0</td>\n",
       "      <td>Nearly 40 years ago in Buckley v. Valeo, 424 U...</td>\n",
       "    </tr>\n",
       "    <tr>\n",
       "      <th>3</th>\n",
       "      <td>Justice Kagan</td>\n",
       "      <td>majority</td>\n",
       "      <td>False</td>\n",
       "      <td>Kaley v. United States</td>\n",
       "      <td>2014-02-25</td>\n",
       "      <td>NaN</td>\n",
       "      <td>https://www.courtlistener.com/opinion/2654533/...</td>\n",
       "      <td>https://www.courtlistener.com/api/rest/v3/clus...</td>\n",
       "      <td>2014</td>\n",
       "      <td>NaN</td>\n",
       "      <td>NaN</td>\n",
       "      <td>NaN</td>\n",
       "      <td>NaN</td>\n",
       "      <td>A federal statute, 21 U.S. C. §853(e), authori...</td>\n",
       "    </tr>\n",
       "    <tr>\n",
       "      <th>4</th>\n",
       "      <td>Justice Roberts</td>\n",
       "      <td>dissenting</td>\n",
       "      <td>False</td>\n",
       "      <td>Kaley v. United States</td>\n",
       "      <td>2014-02-25</td>\n",
       "      <td>NaN</td>\n",
       "      <td>https://www.courtlistener.com/opinion/2654533/...</td>\n",
       "      <td>https://www.courtlistener.com/api/rest/v3/clus...</td>\n",
       "      <td>2014</td>\n",
       "      <td>NaN</td>\n",
       "      <td>NaN</td>\n",
       "      <td>NaN</td>\n",
       "      <td>NaN</td>\n",
       "      <td>An individual facing serious criminal charges ...</td>\n",
       "    </tr>\n",
       "  </tbody>\n",
       "</table>\n",
       "</div>"
      ],
      "text/plain": [
       "       author_name    category  per_curiam  \\\n",
       "0  Justice Roberts    majority       False   \n",
       "1   Justice Thomas  concurring       False   \n",
       "2   Justice Breyer  dissenting       False   \n",
       "3    Justice Kagan    majority       False   \n",
       "4  Justice Roberts  dissenting       False   \n",
       "\n",
       "                               case_name  date_filed federal_cite_one  \\\n",
       "0  McCutcheon v. Federal Election Comm'n  2014-04-02              NaN   \n",
       "1  McCutcheon v. Federal Election Comm'n  2014-04-02              NaN   \n",
       "2  McCutcheon v. Federal Election Comm'n  2014-04-02              NaN   \n",
       "3                 Kaley v. United States  2014-02-25              NaN   \n",
       "4                 Kaley v. United States  2014-02-25              NaN   \n",
       "\n",
       "                                        absolute_url  \\\n",
       "0  https://www.courtlistener.com/opinion/2659301/...   \n",
       "1  https://www.courtlistener.com/opinion/2659301/...   \n",
       "2  https://www.courtlistener.com/opinion/2659301/...   \n",
       "3  https://www.courtlistener.com/opinion/2654533/...   \n",
       "4  https://www.courtlistener.com/opinion/2654533/...   \n",
       "\n",
       "                                             cluster  year_filed   scdb_id  \\\n",
       "0  https://www.courtlistener.com/api/rest/v3/clus...        2014  2013-033   \n",
       "1  https://www.courtlistener.com/api/rest/v3/clus...        2014  2013-033   \n",
       "2  https://www.courtlistener.com/api/rest/v3/clus...        2014  2013-033   \n",
       "3  https://www.courtlistener.com/api/rest/v3/clus...        2014       NaN   \n",
       "4  https://www.courtlistener.com/api/rest/v3/clus...        2014       NaN   \n",
       "\n",
       "   scdb_decision_direction  scdb_votes_majority  scdb_votes_minority  \\\n",
       "0                      1.0                  5.0                  4.0   \n",
       "1                      1.0                  5.0                  4.0   \n",
       "2                      1.0                  5.0                  4.0   \n",
       "3                      NaN                  NaN                  NaN   \n",
       "4                      NaN                  NaN                  NaN   \n",
       "\n",
       "                                                text  \n",
       "0  There is no right more basic in our democracy ...  \n",
       "1  I adhere to the view that this Court’s decisio...  \n",
       "2  Nearly 40 years ago in Buckley v. Valeo, 424 U...  \n",
       "3  A federal statute, 21 U.S. C. §853(e), authori...  \n",
       "4  An individual facing serious criminal charges ...  "
      ]
     },
     "execution_count": 4,
     "metadata": {},
     "output_type": "execute_result"
    }
   ],
   "source": [
    "df = pd.read_csv(file)\n",
    "df.head()"
   ]
  },
  {
   "cell_type": "code",
   "execution_count": 7,
   "metadata": {},
   "outputs": [],
   "source": [
    "docs = df.text.tolist()"
   ]
  },
  {
   "cell_type": "code",
   "execution_count": 8,
   "metadata": {},
   "outputs": [
    {
     "name": "stderr",
     "output_type": "stream",
     "text": [
      "2022-07-03 15:20:33,900 - top2vec - INFO - Pre-processing documents for training\n",
      "2022-07-03 15:22:29,083 - top2vec - INFO - Creating joint document/word embedding\n",
      "2022-07-03 17:34:02,215 - top2vec - INFO - Creating lower dimension embedding of documents\n",
      "2022-07-03 17:34:40,664 - top2vec - INFO - Finding dense areas of documents\n",
      "2022-07-03 17:34:41,313 - top2vec - INFO - Finding topics\n"
     ]
    }
   ],
   "source": [
    "model = Top2Vec(docs)"
   ]
  },
  {
   "cell_type": "code",
   "execution_count": 9,
   "metadata": {},
   "outputs": [],
   "source": [
    "model.save(\"first_dry_run_with_opinions_from_1970_on\")"
   ]
  },
  {
   "cell_type": "code",
   "execution_count": 15,
   "metadata": {},
   "outputs": [],
   "source": [
    "import umap.plot"
   ]
  },
  {
   "cell_type": "code",
   "execution_count": 18,
   "metadata": {},
   "outputs": [
    {
     "name": "stdout",
     "output_type": "stream",
     "text": [
      "Collecting ipywidgets\n",
      "  Downloading ipywidgets-7.7.1-py2.py3-none-any.whl (123 kB)\n",
      "\u001b[K     |████████████████████████████████| 123 kB 1.5 MB/s eta 0:00:01\n",
      "\u001b[?25hRequirement already satisfied: traitlets>=4.3.1 in /Users/spicy.kev/anaconda3/envs/nlp/lib/python3.9/site-packages (from ipywidgets) (5.1.1)\n",
      "Collecting widgetsnbextension~=3.6.0\n",
      "  Downloading widgetsnbextension-3.6.1-py2.py3-none-any.whl (1.6 MB)\n",
      "\u001b[K     |████████████████████████████████| 1.6 MB 2.1 MB/s eta 0:00:01\n",
      "\u001b[?25hRequirement already satisfied: ipykernel>=4.5.1 in /Users/spicy.kev/anaconda3/envs/nlp/lib/python3.9/site-packages (from ipywidgets) (6.9.1)\n",
      "Requirement already satisfied: ipython-genutils~=0.2.0 in /Users/spicy.kev/anaconda3/envs/nlp/lib/python3.9/site-packages (from ipywidgets) (0.2.0)\n",
      "Collecting jupyterlab-widgets>=1.0.0\n",
      "  Downloading jupyterlab_widgets-1.1.1-py3-none-any.whl (245 kB)\n",
      "\u001b[K     |████████████████████████████████| 245 kB 4.2 MB/s eta 0:00:01\n",
      "\u001b[?25hRequirement already satisfied: ipython>=4.0.0 in /Users/spicy.kev/anaconda3/envs/nlp/lib/python3.9/site-packages (from ipywidgets) (8.3.0)\n",
      "Requirement already satisfied: nest-asyncio in /Users/spicy.kev/anaconda3/envs/nlp/lib/python3.9/site-packages (from ipykernel>=4.5.1->ipywidgets) (1.5.5)\n",
      "Requirement already satisfied: jupyter-client<8.0 in /Users/spicy.kev/anaconda3/envs/nlp/lib/python3.9/site-packages (from ipykernel>=4.5.1->ipywidgets) (7.2.2)\n",
      "Requirement already satisfied: tornado<7.0,>=4.2 in /Users/spicy.kev/anaconda3/envs/nlp/lib/python3.9/site-packages (from ipykernel>=4.5.1->ipywidgets) (6.1)\n",
      "Requirement already satisfied: debugpy<2.0,>=1.0.0 in /Users/spicy.kev/anaconda3/envs/nlp/lib/python3.9/site-packages (from ipykernel>=4.5.1->ipywidgets) (1.5.1)\n",
      "Requirement already satisfied: matplotlib-inline<0.2.0,>=0.1.0 in /Users/spicy.kev/anaconda3/envs/nlp/lib/python3.9/site-packages (from ipykernel>=4.5.1->ipywidgets) (0.1.2)\n",
      "Requirement already satisfied: appnope in /Users/spicy.kev/anaconda3/envs/nlp/lib/python3.9/site-packages (from ipykernel>=4.5.1->ipywidgets) (0.1.2)\n",
      "Requirement already satisfied: prompt-toolkit!=3.0.0,!=3.0.1,<3.1.0,>=2.0.0 in /Users/spicy.kev/anaconda3/envs/nlp/lib/python3.9/site-packages (from ipython>=4.0.0->ipywidgets) (3.0.20)\n",
      "Requirement already satisfied: jedi>=0.16 in /Users/spicy.kev/anaconda3/envs/nlp/lib/python3.9/site-packages (from ipython>=4.0.0->ipywidgets) (0.18.1)\n",
      "Requirement already satisfied: setuptools>=18.5 in /Users/spicy.kev/anaconda3/envs/nlp/lib/python3.9/site-packages (from ipython>=4.0.0->ipywidgets) (61.2.0)\n",
      "Requirement already satisfied: backcall in /Users/spicy.kev/anaconda3/envs/nlp/lib/python3.9/site-packages (from ipython>=4.0.0->ipywidgets) (0.2.0)\n",
      "Requirement already satisfied: stack-data in /Users/spicy.kev/anaconda3/envs/nlp/lib/python3.9/site-packages (from ipython>=4.0.0->ipywidgets) (0.2.0)\n",
      "Requirement already satisfied: pygments>=2.4.0 in /Users/spicy.kev/anaconda3/envs/nlp/lib/python3.9/site-packages (from ipython>=4.0.0->ipywidgets) (2.11.2)\n",
      "Requirement already satisfied: pexpect>4.3 in /Users/spicy.kev/anaconda3/envs/nlp/lib/python3.9/site-packages (from ipython>=4.0.0->ipywidgets) (4.8.0)\n",
      "Requirement already satisfied: decorator in /Users/spicy.kev/anaconda3/envs/nlp/lib/python3.9/site-packages (from ipython>=4.0.0->ipywidgets) (5.1.1)\n",
      "Requirement already satisfied: pickleshare in /Users/spicy.kev/anaconda3/envs/nlp/lib/python3.9/site-packages (from ipython>=4.0.0->ipywidgets) (0.7.5)\n",
      "Requirement already satisfied: parso<0.9.0,>=0.8.0 in /Users/spicy.kev/anaconda3/envs/nlp/lib/python3.9/site-packages (from jedi>=0.16->ipython>=4.0.0->ipywidgets) (0.8.3)\n",
      "Requirement already satisfied: pyzmq>=22.3 in /Users/spicy.kev/anaconda3/envs/nlp/lib/python3.9/site-packages (from jupyter-client<8.0->ipykernel>=4.5.1->ipywidgets) (22.3.0)\n",
      "Requirement already satisfied: entrypoints in /Users/spicy.kev/anaconda3/envs/nlp/lib/python3.9/site-packages (from jupyter-client<8.0->ipykernel>=4.5.1->ipywidgets) (0.4)\n",
      "Requirement already satisfied: python-dateutil>=2.8.2 in /Users/spicy.kev/anaconda3/envs/nlp/lib/python3.9/site-packages (from jupyter-client<8.0->ipykernel>=4.5.1->ipywidgets) (2.8.2)\n",
      "Requirement already satisfied: jupyter-core>=4.9.2 in /Users/spicy.kev/anaconda3/envs/nlp/lib/python3.9/site-packages (from jupyter-client<8.0->ipykernel>=4.5.1->ipywidgets) (4.10.0)\n",
      "Requirement already satisfied: ptyprocess>=0.5 in /Users/spicy.kev/anaconda3/envs/nlp/lib/python3.9/site-packages (from pexpect>4.3->ipython>=4.0.0->ipywidgets) (0.7.0)\n",
      "Requirement already satisfied: wcwidth in /Users/spicy.kev/anaconda3/envs/nlp/lib/python3.9/site-packages (from prompt-toolkit!=3.0.0,!=3.0.1,<3.1.0,>=2.0.0->ipython>=4.0.0->ipywidgets) (0.2.5)\n",
      "Requirement already satisfied: six>=1.5 in /Users/spicy.kev/anaconda3/envs/nlp/lib/python3.9/site-packages (from python-dateutil>=2.8.2->jupyter-client<8.0->ipykernel>=4.5.1->ipywidgets) (1.16.0)\n",
      "Requirement already satisfied: notebook>=4.4.1 in /Users/spicy.kev/anaconda3/envs/nlp/lib/python3.9/site-packages (from widgetsnbextension~=3.6.0->ipywidgets) (6.4.11)\n",
      "Requirement already satisfied: nbformat in /Users/spicy.kev/anaconda3/envs/nlp/lib/python3.9/site-packages (from notebook>=4.4.1->widgetsnbextension~=3.6.0->ipywidgets) (5.3.0)\n",
      "Requirement already satisfied: prometheus-client in /Users/spicy.kev/anaconda3/envs/nlp/lib/python3.9/site-packages (from notebook>=4.4.1->widgetsnbextension~=3.6.0->ipywidgets) (0.13.1)\n",
      "Requirement already satisfied: nbconvert>=5 in /Users/spicy.kev/anaconda3/envs/nlp/lib/python3.9/site-packages (from notebook>=4.4.1->widgetsnbextension~=3.6.0->ipywidgets) (6.4.4)\n",
      "Requirement already satisfied: terminado>=0.8.3 in /Users/spicy.kev/anaconda3/envs/nlp/lib/python3.9/site-packages (from notebook>=4.4.1->widgetsnbextension~=3.6.0->ipywidgets) (0.13.1)\n",
      "Requirement already satisfied: Send2Trash>=1.8.0 in /Users/spicy.kev/anaconda3/envs/nlp/lib/python3.9/site-packages (from notebook>=4.4.1->widgetsnbextension~=3.6.0->ipywidgets) (1.8.0)\n",
      "Requirement already satisfied: jinja2 in /Users/spicy.kev/anaconda3/envs/nlp/lib/python3.9/site-packages (from notebook>=4.4.1->widgetsnbextension~=3.6.0->ipywidgets) (3.0.3)\n",
      "Requirement already satisfied: argon2-cffi in /Users/spicy.kev/anaconda3/envs/nlp/lib/python3.9/site-packages (from notebook>=4.4.1->widgetsnbextension~=3.6.0->ipywidgets) (21.3.0)\n",
      "Requirement already satisfied: jupyterlab-pygments in /Users/spicy.kev/anaconda3/envs/nlp/lib/python3.9/site-packages (from nbconvert>=5->notebook>=4.4.1->widgetsnbextension~=3.6.0->ipywidgets) (0.1.2)\n",
      "Requirement already satisfied: pandocfilters>=1.4.1 in /Users/spicy.kev/anaconda3/envs/nlp/lib/python3.9/site-packages (from nbconvert>=5->notebook>=4.4.1->widgetsnbextension~=3.6.0->ipywidgets) (1.5.0)\n",
      "Requirement already satisfied: defusedxml in /Users/spicy.kev/anaconda3/envs/nlp/lib/python3.9/site-packages (from nbconvert>=5->notebook>=4.4.1->widgetsnbextension~=3.6.0->ipywidgets) (0.7.1)\n",
      "Requirement already satisfied: beautifulsoup4 in /Users/spicy.kev/anaconda3/envs/nlp/lib/python3.9/site-packages (from nbconvert>=5->notebook>=4.4.1->widgetsnbextension~=3.6.0->ipywidgets) (4.9.3)\n",
      "Requirement already satisfied: nbclient<0.6.0,>=0.5.0 in /Users/spicy.kev/anaconda3/envs/nlp/lib/python3.9/site-packages (from nbconvert>=5->notebook>=4.4.1->widgetsnbextension~=3.6.0->ipywidgets) (0.5.13)\n",
      "Requirement already satisfied: bleach in /Users/spicy.kev/anaconda3/envs/nlp/lib/python3.9/site-packages (from nbconvert>=5->notebook>=4.4.1->widgetsnbextension~=3.6.0->ipywidgets) (4.1.0)\n",
      "Requirement already satisfied: mistune<2,>=0.8.1 in /Users/spicy.kev/anaconda3/envs/nlp/lib/python3.9/site-packages (from nbconvert>=5->notebook>=4.4.1->widgetsnbextension~=3.6.0->ipywidgets) (0.8.4)\n",
      "Requirement already satisfied: testpath in /Users/spicy.kev/anaconda3/envs/nlp/lib/python3.9/site-packages (from nbconvert>=5->notebook>=4.4.1->widgetsnbextension~=3.6.0->ipywidgets) (0.6.0)\n",
      "Requirement already satisfied: MarkupSafe>=2.0 in /Users/spicy.kev/anaconda3/envs/nlp/lib/python3.9/site-packages (from jinja2->notebook>=4.4.1->widgetsnbextension~=3.6.0->ipywidgets) (2.1.1)\n",
      "Requirement already satisfied: jsonschema>=2.6 in /Users/spicy.kev/anaconda3/envs/nlp/lib/python3.9/site-packages (from nbformat->notebook>=4.4.1->widgetsnbextension~=3.6.0->ipywidgets) (4.4.0)\n",
      "Requirement already satisfied: fastjsonschema in /Users/spicy.kev/anaconda3/envs/nlp/lib/python3.9/site-packages (from nbformat->notebook>=4.4.1->widgetsnbextension~=3.6.0->ipywidgets) (2.15.1)\n",
      "Requirement already satisfied: attrs>=17.4.0 in /Users/spicy.kev/anaconda3/envs/nlp/lib/python3.9/site-packages (from jsonschema>=2.6->nbformat->notebook>=4.4.1->widgetsnbextension~=3.6.0->ipywidgets) (21.4.0)\n",
      "Requirement already satisfied: pyrsistent!=0.17.0,!=0.17.1,!=0.17.2,>=0.14.0 in /Users/spicy.kev/anaconda3/envs/nlp/lib/python3.9/site-packages (from jsonschema>=2.6->nbformat->notebook>=4.4.1->widgetsnbextension~=3.6.0->ipywidgets) (0.18.0)\n",
      "Requirement already satisfied: argon2-cffi-bindings in /Users/spicy.kev/anaconda3/envs/nlp/lib/python3.9/site-packages (from argon2-cffi->notebook>=4.4.1->widgetsnbextension~=3.6.0->ipywidgets) (21.2.0)\n",
      "Requirement already satisfied: cffi>=1.0.1 in /Users/spicy.kev/anaconda3/envs/nlp/lib/python3.9/site-packages (from argon2-cffi-bindings->argon2-cffi->notebook>=4.4.1->widgetsnbextension~=3.6.0->ipywidgets) (1.15.0)\n",
      "Requirement already satisfied: pycparser in /Users/spicy.kev/anaconda3/envs/nlp/lib/python3.9/site-packages (from cffi>=1.0.1->argon2-cffi-bindings->argon2-cffi->notebook>=4.4.1->widgetsnbextension~=3.6.0->ipywidgets) (2.21)\n",
      "Requirement already satisfied: soupsieve>1.2 in /Users/spicy.kev/anaconda3/envs/nlp/lib/python3.9/site-packages (from beautifulsoup4->nbconvert>=5->notebook>=4.4.1->widgetsnbextension~=3.6.0->ipywidgets) (2.3.1)\n",
      "Requirement already satisfied: packaging in /Users/spicy.kev/anaconda3/envs/nlp/lib/python3.9/site-packages (from bleach->nbconvert>=5->notebook>=4.4.1->widgetsnbextension~=3.6.0->ipywidgets) (21.3)\n",
      "Requirement already satisfied: webencodings in /Users/spicy.kev/anaconda3/envs/nlp/lib/python3.9/site-packages (from bleach->nbconvert>=5->notebook>=4.4.1->widgetsnbextension~=3.6.0->ipywidgets) (0.5.1)\n",
      "Requirement already satisfied: pyparsing!=3.0.5,>=2.0.2 in /Users/spicy.kev/anaconda3/envs/nlp/lib/python3.9/site-packages (from packaging->bleach->nbconvert>=5->notebook>=4.4.1->widgetsnbextension~=3.6.0->ipywidgets) (3.0.4)\n",
      "Requirement already satisfied: executing in /Users/spicy.kev/anaconda3/envs/nlp/lib/python3.9/site-packages (from stack-data->ipython>=4.0.0->ipywidgets) (0.8.3)\n",
      "Requirement already satisfied: pure-eval in /Users/spicy.kev/anaconda3/envs/nlp/lib/python3.9/site-packages (from stack-data->ipython>=4.0.0->ipywidgets) (0.2.2)\n",
      "Requirement already satisfied: asttokens in /Users/spicy.kev/anaconda3/envs/nlp/lib/python3.9/site-packages (from stack-data->ipython>=4.0.0->ipywidgets) (2.0.5)\n",
      "Installing collected packages: widgetsnbextension, jupyterlab-widgets, ipywidgets\n",
      "Successfully installed ipywidgets-7.7.1 jupyterlab-widgets-1.1.1 widgetsnbextension-3.6.1\n"
     ]
    }
   ],
   "source": [
    "!pip install ipywidgets"
   ]
  },
  {
   "cell_type": "code",
   "execution_count": 20,
   "metadata": {},
   "outputs": [
    {
     "name": "stdout",
     "output_type": "stream",
     "text": [
      "Enabling notebook extension jupyter-js-widgets/extension...\n",
      "      - Validating: \u001b[32mOK\u001b[0m\n"
     ]
    }
   ],
   "source": [
    "!jupyter nbextension enable --py widgetsnbextension"
   ]
  },
  {
   "cell_type": "code",
   "execution_count": 24,
   "metadata": {},
   "outputs": [
    {
     "name": "stdout",
     "output_type": "stream",
     "text": [
      "Collecting package metadata (current_repodata.json): done\n",
      "Solving environment: done\n",
      "\n",
      "# All requested packages already installed.\n",
      "\n",
      "Collecting package metadata (current_repodata.json): done\n",
      "Solving environment: done\n",
      "\n",
      "## Package Plan ##\n",
      "\n",
      "  environment location: /Users/spicy.kev/anaconda3/envs/nlp\n",
      "\n",
      "  added / updated specs:\n",
      "    - ipywidgets\n",
      "\n",
      "\n",
      "The following packages will be downloaded:\n",
      "\n",
      "    package                    |            build\n",
      "    ---------------------------|-----------------\n",
      "    ipywidgets-7.7.1           |     pyhd8ed1ab_0         103 KB  conda-forge\n",
      "    jupyterlab_widgets-1.1.1   |     pyhd8ed1ab_0         133 KB  conda-forge\n",
      "    widgetsnbextension-3.6.1   |     pyha770c72_0         1.2 MB  conda-forge\n",
      "    ------------------------------------------------------------\n",
      "                                           Total:         1.5 MB\n",
      "\n",
      "The following NEW packages will be INSTALLED:\n",
      "\n",
      "  ipywidgets         conda-forge/noarch::ipywidgets-7.7.1-pyhd8ed1ab_0\n",
      "  jupyterlab_widgets conda-forge/noarch::jupyterlab_widgets-1.1.1-pyhd8ed1ab_0\n",
      "  widgetsnbextension conda-forge/noarch::widgetsnbextension-3.6.1-pyha770c72_0\n",
      "\n",
      "The following packages will be UPDATED:\n",
      "\n",
      "  ca-certificates    pkgs/main::ca-certificates-2022.4.26-~ --> conda-forge::ca-certificates-2022.6.15-h033912b_0\n",
      "\n",
      "The following packages will be SUPERSEDED by a higher-priority channel:\n",
      "\n",
      "  certifi            pkgs/main::certifi-2022.6.15-py39hecd~ --> conda-forge::certifi-2022.6.15-py39h6e9494a_0\n",
      "  openssl              pkgs/main::openssl-1.1.1p-hca72f7f_0 --> conda-forge::openssl-1.1.1p-hfe4f2af_0\n",
      "\n",
      "\n",
      "Proceed ([y]/n)? ^C\n",
      "\n",
      "CondaSystemExit: \n",
      "Operation aborted.  Exiting.\n",
      "\n"
     ]
    }
   ],
   "source": [
    "!conda install -n base -c conda-forge widgetsnbextension\n",
    "!conda install -n nlp -c conda-forge ipywidgets\n",
    "\n",
    "y"
   ]
  },
  {
   "cell_type": "code",
   "execution_count": 25,
   "metadata": {},
   "outputs": [
    {
     "name": "stdout",
     "output_type": "stream",
     "text": [
      "UMAP(angular_rp_forest=True, metric='cosine', verbose=True)\n",
      "Mon Jul  4 06:50:06 2022 Construct fuzzy simplicial set\n",
      "Mon Jul  4 06:50:06 2022 Finding Nearest Neighbors\n",
      "Mon Jul  4 06:50:06 2022 Building RP forest with 10 trees\n",
      "Mon Jul  4 06:50:06 2022 NN descent for 13 iterations\n",
      "\t 1  /  13\n",
      "\t 2  /  13\n",
      "\t 3  /  13\n",
      "\t 4  /  13\n",
      "\t 5  /  13\n",
      "\t 6  /  13\n",
      "\t 7  /  13\n",
      "\tStopping threshold met -- exiting after 7 iterations\n",
      "Mon Jul  4 06:50:08 2022 Finished Nearest Neighbor Search\n",
      "Mon Jul  4 06:50:08 2022 Construct embedding\n"
     ]
    },
    {
     "ename": "ImportError",
     "evalue": "IProgress not found. Please update jupyter and ipywidgets. See https://ipywidgets.readthedocs.io/en/stable/user_install.html",
     "output_type": "error",
     "traceback": [
      "\u001b[0;31m---------------------------------------------------------------------------\u001b[0m",
      "\u001b[0;31mImportError\u001b[0m                               Traceback (most recent call last)",
      "\u001b[1;32m/Users/spicy.kev/Documents/github/supreme_court_opinion_topic_modeling/top2vec_testing.ipynb Cell 11'\u001b[0m in \u001b[0;36m<cell line: 3>\u001b[0;34m()\u001b[0m\n\u001b[1;32m      <a href='vscode-notebook-cell:/Users/spicy.kev/Documents/github/supreme_court_opinion_topic_modeling/top2vec_testing.ipynb#ch0000010?line=0'>1</a>\u001b[0m \u001b[39mimport\u001b[39;00m \u001b[39mmatplotlib\u001b[39;00m\u001b[39m.\u001b[39;00m\u001b[39mpyplot\u001b[39;00m \u001b[39mas\u001b[39;00m \u001b[39mplt\u001b[39;00m\n\u001b[1;32m      <a href='vscode-notebook-cell:/Users/spicy.kev/Documents/github/supreme_court_opinion_topic_modeling/top2vec_testing.ipynb#ch0000010?line=1'>2</a>\u001b[0m vectors \u001b[39m=\u001b[39m model\u001b[39m.\u001b[39m_get_document_vectors()\n\u001b[0;32m----> <a href='vscode-notebook-cell:/Users/spicy.kev/Documents/github/supreme_court_opinion_topic_modeling/top2vec_testing.ipynb#ch0000010?line=2'>3</a>\u001b[0m reduced2d \u001b[39m=\u001b[39m umap\u001b[39m.\u001b[39;49mUMAP(n_neighbors\u001b[39m=\u001b[39;49m\u001b[39m15\u001b[39;49m, n_components\u001b[39m=\u001b[39;49m\u001b[39m2\u001b[39;49m, metric\u001b[39m=\u001b[39;49m\u001b[39m'\u001b[39;49m\u001b[39mcosine\u001b[39;49m\u001b[39m'\u001b[39;49m, verbose\u001b[39m=\u001b[39;49m\u001b[39mTrue\u001b[39;49;00m)\u001b[39m.\u001b[39;49mfit_transform(vectors)\n\u001b[1;32m      <a href='vscode-notebook-cell:/Users/spicy.kev/Documents/github/supreme_court_opinion_topic_modeling/top2vec_testing.ipynb#ch0000010?line=3'>4</a>\u001b[0m umap\u001b[39m.\u001b[39mplot\u001b[39m.\u001b[39mpoints(umap_model, labels\u001b[39m=\u001b[39mmodel\u001b[39m.\u001b[39mdoc_top_reduced)\n\u001b[1;32m      <a href='vscode-notebook-cell:/Users/spicy.kev/Documents/github/supreme_court_opinion_topic_modeling/top2vec_testing.ipynb#ch0000010?line=5'>6</a>\u001b[0m x, y \u001b[39m=\u001b[39m reduced2d[:,\u001b[39m0\u001b[39m], reduced2d[:,\u001b[39m1\u001b[39m]\n",
      "File \u001b[0;32m~/anaconda3/envs/nlp/lib/python3.9/site-packages/umap/umap_.py:2772\u001b[0m, in \u001b[0;36mUMAP.fit_transform\u001b[0;34m(self, X, y)\u001b[0m\n\u001b[1;32m   2742\u001b[0m \u001b[39mdef\u001b[39;00m \u001b[39mfit_transform\u001b[39m(\u001b[39mself\u001b[39m, X, y\u001b[39m=\u001b[39m\u001b[39mNone\u001b[39;00m):\n\u001b[1;32m   2743\u001b[0m     \u001b[39m\"\"\"Fit X into an embedded space and return that transformed\u001b[39;00m\n\u001b[1;32m   2744\u001b[0m \u001b[39m    output.\u001b[39;00m\n\u001b[1;32m   2745\u001b[0m \n\u001b[0;32m   (...)\u001b[0m\n\u001b[1;32m   2770\u001b[0m \u001b[39m        Local radii of data points in the embedding (log-transformed).\u001b[39;00m\n\u001b[1;32m   2771\u001b[0m \u001b[39m    \"\"\"\u001b[39;00m\n\u001b[0;32m-> 2772\u001b[0m     \u001b[39mself\u001b[39;49m\u001b[39m.\u001b[39;49mfit(X, y)\n\u001b[1;32m   2773\u001b[0m     \u001b[39mif\u001b[39;00m \u001b[39mself\u001b[39m\u001b[39m.\u001b[39mtransform_mode \u001b[39m==\u001b[39m \u001b[39m\"\u001b[39m\u001b[39membedding\u001b[39m\u001b[39m\"\u001b[39m:\n\u001b[1;32m   2774\u001b[0m         \u001b[39mif\u001b[39;00m \u001b[39mself\u001b[39m\u001b[39m.\u001b[39moutput_dens:\n",
      "File \u001b[0;32m~/anaconda3/envs/nlp/lib/python3.9/site-packages/umap/umap_.py:2684\u001b[0m, in \u001b[0;36mUMAP.fit\u001b[0;34m(self, X, y)\u001b[0m\n\u001b[1;32m   2681\u001b[0m     \u001b[39mprint\u001b[39m(ts(), \u001b[39m\"\u001b[39m\u001b[39mConstruct embedding\u001b[39m\u001b[39m\"\u001b[39m)\n\u001b[1;32m   2683\u001b[0m \u001b[39mif\u001b[39;00m \u001b[39mself\u001b[39m\u001b[39m.\u001b[39mtransform_mode \u001b[39m==\u001b[39m \u001b[39m\"\u001b[39m\u001b[39membedding\u001b[39m\u001b[39m\"\u001b[39m:\n\u001b[0;32m-> 2684\u001b[0m     \u001b[39mself\u001b[39m\u001b[39m.\u001b[39membedding_, aux_data \u001b[39m=\u001b[39m \u001b[39mself\u001b[39;49m\u001b[39m.\u001b[39;49m_fit_embed_data(\n\u001b[1;32m   2685\u001b[0m         \u001b[39mself\u001b[39;49m\u001b[39m.\u001b[39;49m_raw_data[index],\n\u001b[1;32m   2686\u001b[0m         \u001b[39mself\u001b[39;49m\u001b[39m.\u001b[39;49mn_epochs,\n\u001b[1;32m   2687\u001b[0m         init,\n\u001b[1;32m   2688\u001b[0m         random_state,  \u001b[39m# JH why raw data?\u001b[39;49;00m\n\u001b[1;32m   2689\u001b[0m     )\n\u001b[1;32m   2690\u001b[0m     \u001b[39m# Assign any points that are fully disconnected from our manifold(s) to have embedding\u001b[39;00m\n\u001b[1;32m   2691\u001b[0m     \u001b[39m# coordinates of np.nan.  These will be filtered by our plotting functions automatically.\u001b[39;00m\n\u001b[1;32m   2692\u001b[0m     \u001b[39m# They also prevent users from being deceived a distance query to one of these points.\u001b[39;00m\n\u001b[1;32m   2693\u001b[0m     \u001b[39m# Might be worth moving this into simplicial_set_embedding or _fit_embed_data\u001b[39;00m\n\u001b[1;32m   2694\u001b[0m     disconnected_vertices \u001b[39m=\u001b[39m np\u001b[39m.\u001b[39marray(\u001b[39mself\u001b[39m\u001b[39m.\u001b[39mgraph_\u001b[39m.\u001b[39msum(axis\u001b[39m=\u001b[39m\u001b[39m1\u001b[39m))\u001b[39m.\u001b[39mflatten() \u001b[39m==\u001b[39m \u001b[39m0\u001b[39m\n",
      "File \u001b[0;32m~/anaconda3/envs/nlp/lib/python3.9/site-packages/umap/umap_.py:2717\u001b[0m, in \u001b[0;36mUMAP._fit_embed_data\u001b[0;34m(self, X, n_epochs, init, random_state)\u001b[0m\n\u001b[1;32m   2713\u001b[0m \u001b[39mdef\u001b[39;00m \u001b[39m_fit_embed_data\u001b[39m(\u001b[39mself\u001b[39m, X, n_epochs, init, random_state):\n\u001b[1;32m   2714\u001b[0m     \u001b[39m\"\"\"A method wrapper for simplicial_set_embedding that can be\u001b[39;00m\n\u001b[1;32m   2715\u001b[0m \u001b[39m    replaced by subclasses.\u001b[39;00m\n\u001b[1;32m   2716\u001b[0m \u001b[39m    \"\"\"\u001b[39;00m\n\u001b[0;32m-> 2717\u001b[0m     \u001b[39mreturn\u001b[39;00m simplicial_set_embedding(\n\u001b[1;32m   2718\u001b[0m         X,\n\u001b[1;32m   2719\u001b[0m         \u001b[39mself\u001b[39;49m\u001b[39m.\u001b[39;49mgraph_,\n\u001b[1;32m   2720\u001b[0m         \u001b[39mself\u001b[39;49m\u001b[39m.\u001b[39;49mn_components,\n\u001b[1;32m   2721\u001b[0m         \u001b[39mself\u001b[39;49m\u001b[39m.\u001b[39;49m_initial_alpha,\n\u001b[1;32m   2722\u001b[0m         \u001b[39mself\u001b[39;49m\u001b[39m.\u001b[39;49m_a,\n\u001b[1;32m   2723\u001b[0m         \u001b[39mself\u001b[39;49m\u001b[39m.\u001b[39;49m_b,\n\u001b[1;32m   2724\u001b[0m         \u001b[39mself\u001b[39;49m\u001b[39m.\u001b[39;49mrepulsion_strength,\n\u001b[1;32m   2725\u001b[0m         \u001b[39mself\u001b[39;49m\u001b[39m.\u001b[39;49mnegative_sample_rate,\n\u001b[1;32m   2726\u001b[0m         n_epochs,\n\u001b[1;32m   2727\u001b[0m         init,\n\u001b[1;32m   2728\u001b[0m         random_state,\n\u001b[1;32m   2729\u001b[0m         \u001b[39mself\u001b[39;49m\u001b[39m.\u001b[39;49m_input_distance_func,\n\u001b[1;32m   2730\u001b[0m         \u001b[39mself\u001b[39;49m\u001b[39m.\u001b[39;49m_metric_kwds,\n\u001b[1;32m   2731\u001b[0m         \u001b[39mself\u001b[39;49m\u001b[39m.\u001b[39;49mdensmap,\n\u001b[1;32m   2732\u001b[0m         \u001b[39mself\u001b[39;49m\u001b[39m.\u001b[39;49m_densmap_kwds,\n\u001b[1;32m   2733\u001b[0m         \u001b[39mself\u001b[39;49m\u001b[39m.\u001b[39;49moutput_dens,\n\u001b[1;32m   2734\u001b[0m         \u001b[39mself\u001b[39;49m\u001b[39m.\u001b[39;49m_output_distance_func,\n\u001b[1;32m   2735\u001b[0m         \u001b[39mself\u001b[39;49m\u001b[39m.\u001b[39;49m_output_metric_kwds,\n\u001b[1;32m   2736\u001b[0m         \u001b[39mself\u001b[39;49m\u001b[39m.\u001b[39;49moutput_metric \u001b[39min\u001b[39;49;00m (\u001b[39m\"\u001b[39;49m\u001b[39meuclidean\u001b[39;49m\u001b[39m\"\u001b[39;49m, \u001b[39m\"\u001b[39;49m\u001b[39ml2\u001b[39;49m\u001b[39m\"\u001b[39;49m),\n\u001b[1;32m   2737\u001b[0m         \u001b[39mself\u001b[39;49m\u001b[39m.\u001b[39;49mrandom_state \u001b[39mis\u001b[39;49;00m \u001b[39mNone\u001b[39;49;00m,\n\u001b[1;32m   2738\u001b[0m         \u001b[39mself\u001b[39;49m\u001b[39m.\u001b[39;49mverbose,\n\u001b[1;32m   2739\u001b[0m         tqdm_kwds\u001b[39m=\u001b[39;49m\u001b[39mself\u001b[39;49m\u001b[39m.\u001b[39;49mtqdm_kwds,\n\u001b[1;32m   2740\u001b[0m     )\n",
      "File \u001b[0;32m~/anaconda3/envs/nlp/lib/python3.9/site-packages/umap/umap_.py:1156\u001b[0m, in \u001b[0;36msimplicial_set_embedding\u001b[0;34m(data, graph, n_components, initial_alpha, a, b, gamma, negative_sample_rate, n_epochs, init, random_state, metric, metric_kwds, densmap, densmap_kwds, output_dens, output_metric, output_metric_kwds, euclidean_output, parallel, verbose, tqdm_kwds)\u001b[0m\n\u001b[1;32m   1149\u001b[0m embedding \u001b[39m=\u001b[39m (\n\u001b[1;32m   1150\u001b[0m     \u001b[39m10.0\u001b[39m\n\u001b[1;32m   1151\u001b[0m     \u001b[39m*\u001b[39m (embedding \u001b[39m-\u001b[39m np\u001b[39m.\u001b[39mmin(embedding, \u001b[39m0\u001b[39m))\n\u001b[1;32m   1152\u001b[0m     \u001b[39m/\u001b[39m (np\u001b[39m.\u001b[39mmax(embedding, \u001b[39m0\u001b[39m) \u001b[39m-\u001b[39m np\u001b[39m.\u001b[39mmin(embedding, \u001b[39m0\u001b[39m))\n\u001b[1;32m   1153\u001b[0m )\u001b[39m.\u001b[39mastype(np\u001b[39m.\u001b[39mfloat32, order\u001b[39m=\u001b[39m\u001b[39m\"\u001b[39m\u001b[39mC\u001b[39m\u001b[39m\"\u001b[39m)\n\u001b[1;32m   1155\u001b[0m \u001b[39mif\u001b[39;00m euclidean_output:\n\u001b[0;32m-> 1156\u001b[0m     embedding \u001b[39m=\u001b[39m optimize_layout_euclidean(\n\u001b[1;32m   1157\u001b[0m         embedding,\n\u001b[1;32m   1158\u001b[0m         embedding,\n\u001b[1;32m   1159\u001b[0m         head,\n\u001b[1;32m   1160\u001b[0m         tail,\n\u001b[1;32m   1161\u001b[0m         n_epochs,\n\u001b[1;32m   1162\u001b[0m         n_vertices,\n\u001b[1;32m   1163\u001b[0m         epochs_per_sample,\n\u001b[1;32m   1164\u001b[0m         a,\n\u001b[1;32m   1165\u001b[0m         b,\n\u001b[1;32m   1166\u001b[0m         rng_state,\n\u001b[1;32m   1167\u001b[0m         gamma,\n\u001b[1;32m   1168\u001b[0m         initial_alpha,\n\u001b[1;32m   1169\u001b[0m         negative_sample_rate,\n\u001b[1;32m   1170\u001b[0m         parallel\u001b[39m=\u001b[39;49mparallel,\n\u001b[1;32m   1171\u001b[0m         verbose\u001b[39m=\u001b[39;49mverbose,\n\u001b[1;32m   1172\u001b[0m         densmap\u001b[39m=\u001b[39;49mdensmap,\n\u001b[1;32m   1173\u001b[0m         densmap_kwds\u001b[39m=\u001b[39;49mdensmap_kwds,\n\u001b[1;32m   1174\u001b[0m         tqdm_kwds\u001b[39m=\u001b[39;49mtqdm_kwds,\n\u001b[1;32m   1175\u001b[0m         move_other\u001b[39m=\u001b[39;49m\u001b[39mTrue\u001b[39;49;00m,\n\u001b[1;32m   1176\u001b[0m     )\n\u001b[1;32m   1177\u001b[0m \u001b[39melse\u001b[39;00m:\n\u001b[1;32m   1178\u001b[0m     embedding \u001b[39m=\u001b[39m optimize_layout_generic(\n\u001b[1;32m   1179\u001b[0m         embedding,\n\u001b[1;32m   1180\u001b[0m         embedding,\n\u001b[0;32m   (...)\u001b[0m\n\u001b[1;32m   1196\u001b[0m         move_other\u001b[39m=\u001b[39m\u001b[39mTrue\u001b[39;00m,\n\u001b[1;32m   1197\u001b[0m     )\n",
      "File \u001b[0;32m~/anaconda3/envs/nlp/lib/python3.9/site-packages/umap/layouts.py:338\u001b[0m, in \u001b[0;36moptimize_layout_euclidean\u001b[0;34m(head_embedding, tail_embedding, head, tail, n_epochs, n_vertices, epochs_per_sample, a, b, rng_state, gamma, initial_alpha, negative_sample_rate, parallel, verbose, densmap, densmap_kwds, tqdm_kwds, move_other)\u001b[0m\n\u001b[1;32m    335\u001b[0m \u001b[39mif\u001b[39;00m \u001b[39m\"\u001b[39m\u001b[39mdisable\u001b[39m\u001b[39m\"\u001b[39m \u001b[39mnot\u001b[39;00m \u001b[39min\u001b[39;00m tqdm_kwds:\n\u001b[1;32m    336\u001b[0m     tqdm_kwds[\u001b[39m\"\u001b[39m\u001b[39mdisable\u001b[39m\u001b[39m\"\u001b[39m] \u001b[39m=\u001b[39m \u001b[39mnot\u001b[39;00m verbose\n\u001b[0;32m--> 338\u001b[0m \u001b[39mfor\u001b[39;00m n \u001b[39min\u001b[39;00m tqdm(\u001b[39mrange\u001b[39;49m(n_epochs), \u001b[39m*\u001b[39;49m\u001b[39m*\u001b[39;49mtqdm_kwds):\n\u001b[1;32m    340\u001b[0m     densmap_flag \u001b[39m=\u001b[39m (\n\u001b[1;32m    341\u001b[0m         densmap\n\u001b[1;32m    342\u001b[0m         \u001b[39mand\u001b[39;00m (densmap_kwds[\u001b[39m\"\u001b[39m\u001b[39mlambda\u001b[39m\u001b[39m\"\u001b[39m] \u001b[39m>\u001b[39m \u001b[39m0\u001b[39m)\n\u001b[1;32m    343\u001b[0m         \u001b[39mand\u001b[39;00m (((n \u001b[39m+\u001b[39m \u001b[39m1\u001b[39m) \u001b[39m/\u001b[39m \u001b[39mfloat\u001b[39m(n_epochs)) \u001b[39m>\u001b[39m (\u001b[39m1\u001b[39m \u001b[39m-\u001b[39m densmap_kwds[\u001b[39m\"\u001b[39m\u001b[39mfrac\u001b[39m\u001b[39m\"\u001b[39m]))\n\u001b[1;32m    344\u001b[0m     )\n\u001b[1;32m    346\u001b[0m     \u001b[39mif\u001b[39;00m densmap_flag:\n\u001b[1;32m    347\u001b[0m         \u001b[39m# FIXME: dens_init_fn might be referenced before assignment\u001b[39;00m\n",
      "File \u001b[0;32m~/anaconda3/envs/nlp/lib/python3.9/site-packages/tqdm/notebook.py:242\u001b[0m, in \u001b[0;36mtqdm_notebook.__init__\u001b[0;34m(self, *args, **kwargs)\u001b[0m\n\u001b[1;32m    240\u001b[0m unit_scale \u001b[39m=\u001b[39m \u001b[39m1\u001b[39m \u001b[39mif\u001b[39;00m \u001b[39mself\u001b[39m\u001b[39m.\u001b[39munit_scale \u001b[39mis\u001b[39;00m \u001b[39mTrue\u001b[39;00m \u001b[39melse\u001b[39;00m \u001b[39mself\u001b[39m\u001b[39m.\u001b[39munit_scale \u001b[39mor\u001b[39;00m \u001b[39m1\u001b[39m\n\u001b[1;32m    241\u001b[0m total \u001b[39m=\u001b[39m \u001b[39mself\u001b[39m\u001b[39m.\u001b[39mtotal \u001b[39m*\u001b[39m unit_scale \u001b[39mif\u001b[39;00m \u001b[39mself\u001b[39m\u001b[39m.\u001b[39mtotal \u001b[39melse\u001b[39;00m \u001b[39mself\u001b[39m\u001b[39m.\u001b[39mtotal\n\u001b[0;32m--> 242\u001b[0m \u001b[39mself\u001b[39m\u001b[39m.\u001b[39mcontainer \u001b[39m=\u001b[39m \u001b[39mself\u001b[39;49m\u001b[39m.\u001b[39;49mstatus_printer(\u001b[39mself\u001b[39;49m\u001b[39m.\u001b[39;49mfp, total, \u001b[39mself\u001b[39;49m\u001b[39m.\u001b[39;49mdesc, \u001b[39mself\u001b[39;49m\u001b[39m.\u001b[39;49mncols)\n\u001b[1;32m    243\u001b[0m \u001b[39mself\u001b[39m\u001b[39m.\u001b[39mcontainer\u001b[39m.\u001b[39mpbar \u001b[39m=\u001b[39m proxy(\u001b[39mself\u001b[39m)\n\u001b[1;32m    244\u001b[0m \u001b[39mself\u001b[39m\u001b[39m.\u001b[39mdisplayed \u001b[39m=\u001b[39m \u001b[39mFalse\u001b[39;00m\n",
      "File \u001b[0;32m~/anaconda3/envs/nlp/lib/python3.9/site-packages/tqdm/notebook.py:118\u001b[0m, in \u001b[0;36mtqdm_notebook.status_printer\u001b[0;34m(_, total, desc, ncols)\u001b[0m\n\u001b[1;32m    109\u001b[0m \u001b[39m# Fallback to text bar if there's no total\u001b[39;00m\n\u001b[1;32m    110\u001b[0m \u001b[39m# DEPRECATED: replaced with an 'info' style bar\u001b[39;00m\n\u001b[1;32m    111\u001b[0m \u001b[39m# if not total:\u001b[39;00m\n\u001b[0;32m   (...)\u001b[0m\n\u001b[1;32m    115\u001b[0m \n\u001b[1;32m    116\u001b[0m \u001b[39m# Prepare IPython progress bar\u001b[39;00m\n\u001b[1;32m    117\u001b[0m \u001b[39mif\u001b[39;00m IProgress \u001b[39mis\u001b[39;00m \u001b[39mNone\u001b[39;00m:  \u001b[39m# #187 #451 #558 #872\u001b[39;00m\n\u001b[0;32m--> 118\u001b[0m     \u001b[39mraise\u001b[39;00m \u001b[39mImportError\u001b[39;00m(WARN_NOIPYW)\n\u001b[1;32m    119\u001b[0m \u001b[39mif\u001b[39;00m total:\n\u001b[1;32m    120\u001b[0m     pbar \u001b[39m=\u001b[39m IProgress(\u001b[39mmin\u001b[39m\u001b[39m=\u001b[39m\u001b[39m0\u001b[39m, \u001b[39mmax\u001b[39m\u001b[39m=\u001b[39mtotal)\n",
      "\u001b[0;31mImportError\u001b[0m: IProgress not found. Please update jupyter and ipywidgets. See https://ipywidgets.readthedocs.io/en/stable/user_install.html"
     ]
    }
   ],
   "source": [
    "import matplotlib.pyplot as plt\n",
    "vectors = model._get_document_vectors()\n",
    "reduced2d = umap.UMAP(n_neighbors=15, n_components=2, metric='cosine', verbose=True).fit_transform(vectors)\n",
    "umap.plot.points(umap_model, labels=model.doc_top_reduced)\n",
    "\n",
    "x, y = reduced2d[:,0], reduced2d[:,1]\n",
    "plt.scatter(x, y)"
   ]
  },
  {
   "cell_type": "code",
   "execution_count": null,
   "metadata": {},
   "outputs": [],
   "source": []
  }
 ],
 "metadata": {
  "kernelspec": {
   "display_name": "Python 3.9.12 ('nlp')",
   "language": "python",
   "name": "python3"
  },
  "language_info": {
   "codemirror_mode": {
    "name": "ipython",
    "version": 3
   },
   "file_extension": ".py",
   "mimetype": "text/x-python",
   "name": "python",
   "nbconvert_exporter": "python",
   "pygments_lexer": "ipython3",
   "version": "3.9.12"
  },
  "orig_nbformat": 4,
  "vscode": {
   "interpreter": {
    "hash": "75edb825c87a0a6a7d95357b6ff5e82dfc93866b13e30996819bc52b6af5b8b6"
   }
  }
 },
 "nbformat": 4,
 "nbformat_minor": 2
}
