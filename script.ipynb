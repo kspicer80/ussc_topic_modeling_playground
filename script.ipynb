{
 "cells": [
  {
   "cell_type": "code",
   "execution_count": 1,
   "metadata": {},
   "outputs": [],
   "source": [
    "import pandas as pd"
   ]
  },
  {
   "cell_type": "code",
   "execution_count": 2,
   "metadata": {},
   "outputs": [],
   "source": [
    "df = pd.read_csv('data/all_opinions.csv', encoding='utf-8').set_index(['author_name', 'federal_cite_one'])"
   ]
  },
  {
   "cell_type": "code",
   "execution_count": 3,
   "metadata": {},
   "outputs": [
    {
     "data": {
      "text/plain": [
       "<AxesSubplot:>"
      ]
     },
     "execution_count": 3,
     "metadata": {},
     "output_type": "execute_result"
    },
    {
     "data": {
      "image/png": "[encoded data removed]",
      "text/plain": [
       "<Figure size 432x288 with 1 Axes>"
      ]
     },
     "metadata": {
      "needs_background": "light"
     },
     "output_type": "display_data"
    }
   ],
   "source": [
    "df['year_filed'].hist(bins=50)"
   ]
  },
  {
   "cell_type": "code",
   "execution_count": 18,
   "metadata": {},
   "outputs": [
    {
     "data": {
      "text/plain": [
       "category                      0\n",
       "per_curiam                    0\n",
       "case_name                     0\n",
       "date_filed                    0\n",
       "absolute_url                  0\n",
       "cluster                       0\n",
       "year_filed                    0\n",
       "scdb_id                    1763\n",
       "scdb_decision_direction    1768\n",
       "scdb_votes_majority        1763\n",
       "scdb_votes_minority        1763\n",
       "text                          0\n",
       "dtype: int64"
      ]
     },
     "execution_count": 18,
     "metadata": {},
     "output_type": "execute_result"
    }
   ],
   "source": [
    "df.isna().sum()"
   ]
  },
  {
   "cell_type": "code",
   "execution_count": 19,
   "metadata": {},
   "outputs": [
    {
     "data": {
      "text/html": [
       "<div>\n",
       "<style scoped>\n",
       "    .dataframe tbody tr th:only-of-type {\n",
       "        vertical-align: middle;\n",
       "    }\n",
       "\n",
       "    .dataframe tbody tr th {\n",
       "        vertical-align: top;\n",
       "    }\n",
       "\n",
       "    .dataframe thead th {\n",
       "        text-align: right;\n",
       "    }\n",
       "</style>\n",
       "<table border=\"1\" class=\"dataframe\">\n",
       "  <thead>\n",
       "    <tr style=\"text-align: right;\">\n",
       "      <th></th>\n",
       "      <th></th>\n",
       "      <th>category</th>\n",
       "      <th>per_curiam</th>\n",
       "      <th>case_name</th>\n",
       "      <th>date_filed</th>\n",
       "      <th>absolute_url</th>\n",
       "      <th>cluster</th>\n",
       "      <th>year_filed</th>\n",
       "      <th>scdb_id</th>\n",
       "      <th>scdb_decision_direction</th>\n",
       "      <th>scdb_votes_majority</th>\n",
       "      <th>scdb_votes_minority</th>\n",
       "      <th>text</th>\n",
       "    </tr>\n",
       "    <tr>\n",
       "      <th>author_name</th>\n",
       "      <th>federal_cite_one</th>\n",
       "      <th></th>\n",
       "      <th></th>\n",
       "      <th></th>\n",
       "      <th></th>\n",
       "      <th></th>\n",
       "      <th></th>\n",
       "      <th></th>\n",
       "      <th></th>\n",
       "      <th></th>\n",
       "      <th></th>\n",
       "      <th></th>\n",
       "      <th></th>\n",
       "    </tr>\n",
       "  </thead>\n",
       "  <tbody>\n",
       "    <tr>\n",
       "      <th>per_curiam</th>\n",
       "      <th>382 U.S. 39</th>\n",
       "      <td>per_curiam</td>\n",
       "      <td>True</td>\n",
       "      <td>Wells v. Reynolds</td>\n",
       "      <td>1965-10-18</td>\n",
       "      <td>https://www.courtlistener.com/opinion/1087654/...</td>\n",
       "      <td>https://www.courtlistener.com/api/rest/v3/clus...</td>\n",
       "      <td>1965</td>\n",
       "      <td>NaN</td>\n",
       "      <td>NaN</td>\n",
       "      <td>NaN</td>\n",
       "      <td>NaN</td>\n",
       "      <td>The judgment is affirmed.\\nMR. JUSTICE DOUGLAS...</td>\n",
       "    </tr>\n",
       "    <tr>\n",
       "      <th>Justice Kagan</th>\n",
       "      <th>NaN</th>\n",
       "      <td>majority</td>\n",
       "      <td>False</td>\n",
       "      <td>Kaley v. United States</td>\n",
       "      <td>2014-02-25</td>\n",
       "      <td>https://www.courtlistener.com/opinion/2654533/...</td>\n",
       "      <td>https://www.courtlistener.com/api/rest/v3/clus...</td>\n",
       "      <td>2014</td>\n",
       "      <td>NaN</td>\n",
       "      <td>NaN</td>\n",
       "      <td>NaN</td>\n",
       "      <td>NaN</td>\n",
       "      <td>A federal statute, 21 U.S. C. §853(e), authori...</td>\n",
       "    </tr>\n",
       "    <tr>\n",
       "      <th>Justice Roberts</th>\n",
       "      <th>NaN</th>\n",
       "      <td>dissenting</td>\n",
       "      <td>False</td>\n",
       "      <td>Kaley v. United States</td>\n",
       "      <td>2014-02-25</td>\n",
       "      <td>https://www.courtlistener.com/opinion/2654533/...</td>\n",
       "      <td>https://www.courtlistener.com/api/rest/v3/clus...</td>\n",
       "      <td>2014</td>\n",
       "      <td>NaN</td>\n",
       "      <td>NaN</td>\n",
       "      <td>NaN</td>\n",
       "      <td>NaN</td>\n",
       "      <td>An individual facing serious criminal charges ...</td>\n",
       "    </tr>\n",
       "    <tr>\n",
       "      <th>Justice Kennedy</th>\n",
       "      <th>NaN</th>\n",
       "      <td>majority</td>\n",
       "      <td>False</td>\n",
       "      <td>Masterpiece Cakeshop, Ltd. v. Colorado Civil R...</td>\n",
       "      <td>2018-06-13</td>\n",
       "      <td>https://www.courtlistener.com/opinion/4507882/...</td>\n",
       "      <td>https://www.courtlistener.com/api/rest/v3/clus...</td>\n",
       "      <td>2018</td>\n",
       "      <td>NaN</td>\n",
       "      <td>NaN</td>\n",
       "      <td>NaN</td>\n",
       "      <td>NaN</td>\n",
       "      <td>In 2012 a same-sex couple visited Masterpiece\\...</td>\n",
       "    </tr>\n",
       "    <tr>\n",
       "      <th>Justice Kagan</th>\n",
       "      <th>NaN</th>\n",
       "      <td>concurring</td>\n",
       "      <td>False</td>\n",
       "      <td>Masterpiece Cakeshop, Ltd. v. Colorado Civil R...</td>\n",
       "      <td>2018-06-13</td>\n",
       "      <td>https://www.courtlistener.com/opinion/4507882/...</td>\n",
       "      <td>https://www.courtlistener.com/api/rest/v3/clus...</td>\n",
       "      <td>2018</td>\n",
       "      <td>NaN</td>\n",
       "      <td>NaN</td>\n",
       "      <td>NaN</td>\n",
       "      <td>NaN</td>\n",
       "      <td>“[I]t is a general rule that [religious and ph...</td>\n",
       "    </tr>\n",
       "  </tbody>\n",
       "</table>\n",
       "</div>"
      ],
      "text/plain": [
       "                                    category  per_curiam                                          case_name  date_filed                                       absolute_url                                            cluster  year_filed scdb_id  scdb_decision_direction  scdb_votes_majority  scdb_votes_minority                                               text\n",
       "author_name     federal_cite_one                                                                                                                                                                                                                                                                                                                                       \n",
       "per_curiam      382 U.S. 39       per_curiam        True                                  Wells v. Reynolds  1965-10-18  https://www.courtlistener.com/opinion/1087654/...  https://www.courtlistener.com/api/rest/v3/clus...        1965     NaN                      NaN                  NaN                  NaN  The judgment is affirmed.\\nMR. JUSTICE DOUGLAS...\n",
       "Justice Kagan   NaN                 majority       False                             Kaley v. United States  2014-02-25  https://www.courtlistener.com/opinion/2654533/...  https://www.courtlistener.com/api/rest/v3/clus...        2014     NaN                      NaN                  NaN                  NaN  A federal statute, 21 U.S. C. §853(e), authori...\n",
       "Justice Roberts NaN               dissenting       False                             Kaley v. United States  2014-02-25  https://www.courtlistener.com/opinion/2654533/...  https://www.courtlistener.com/api/rest/v3/clus...        2014     NaN                      NaN                  NaN                  NaN  An individual facing serious criminal charges ...\n",
       "Justice Kennedy NaN                 majority       False  Masterpiece Cakeshop, Ltd. v. Colorado Civil R...  2018-06-13  https://www.courtlistener.com/opinion/4507882/...  https://www.courtlistener.com/api/rest/v3/clus...        2018     NaN                      NaN                  NaN                  NaN  In 2012 a same-sex couple visited Masterpiece\\...\n",
       "Justice Kagan   NaN               concurring       False  Masterpiece Cakeshop, Ltd. v. Colorado Civil R...  2018-06-13  https://www.courtlistener.com/opinion/4507882/...  https://www.courtlistener.com/api/rest/v3/clus...        2018     NaN                      NaN                  NaN                  NaN  “[I]t is a general rule that [religious and ph..."
      ]
     },
     "execution_count": 19,
     "metadata": {},
     "output_type": "execute_result"
    }
   ],
   "source": [
    "df[df['scdb_id'].isna()].head()"
   ]
  },
  {
   "cell_type": "code",
   "execution_count": 9,
   "metadata": {},
   "outputs": [
    {
     "data": {
      "text/plain": [
       "author_name      federal_cite_one\n",
       "Justice Kagan    NaN                 https://www.courtlistener.com/opinion/2654533/kaley-v-united-states/\n",
       "Justice Roberts  NaN                 https://www.courtlistener.com/opinion/2654533/kaley-v-united-states/\n",
       "Justice Kagan    NaN                 https://www.courtlistener.com/opinion/2654756/kaley-v-united-states/\n",
       "Justice Roberts  NaN                 https://www.courtlistener.com/opinion/2654756/kaley-v-united-states/\n",
       "Name: absolute_url, dtype: object"
      ]
     },
     "execution_count": 9,
     "metadata": {},
     "output_type": "execute_result"
    }
   ],
   "source": [
    "pd.set_option('display.max_colwidth', None)\n",
    "df[df['case_name'] == 'Kaley v. United States']['absolute_url']"
   ]
  },
  {
   "cell_type": "code",
   "execution_count": 11,
   "metadata": {},
   "outputs": [
    {
     "name": "stderr",
     "output_type": "stream",
     "text": [
      "<ipython-input-11-da87b4592905>:1: FutureWarning: Passing a negative integer is deprecated in version 1.0 and will not be supported in future version. Instead, use None to not limit the column width.\n",
      "  pd.set_option('display.max_colwidth', -1)\n"
     ]
    },
    {
     "data": {
      "text/plain": [
       "author_name      federal_cite_one\n",
       "Justice Kagan    NaN                 https://www.courtlistener.com/api/rest/v3/clusters/2654533/\n",
       "Justice Roberts  NaN                 https://www.courtlistener.com/api/rest/v3/clusters/2654533/\n",
       "Justice Kagan    NaN                 https://www.courtlistener.com/api/rest/v3/clusters/2654756/\n",
       "Justice Roberts  NaN                 https://www.courtlistener.com/api/rest/v3/clusters/2654756/\n",
       "Name: cluster, dtype: object"
      ]
     },
     "execution_count": 11,
     "metadata": {},
     "output_type": "execute_result"
    }
   ],
   "source": [
    "pd.set_option('display.max_colwidth', -1)\n",
    "df[df['case_name'] == 'Kaley v. United States']['cluster']"
   ]
  },
  {
   "cell_type": "code",
   "execution_count": 4,
   "metadata": {},
   "outputs": [
    {
     "name": "stdout",
     "output_type": "stream",
     "text": [
      "Shape of document-term matrix is (35781, 14162) and the number of tokens is 39876522\n"
     ]
    }
   ],
   "source": [
    "import sklearn.feature_extraction.text as text\n",
    "vec = text.CountVectorizer(lowercase=True, min_df=100, stop_words='english')\n",
    "dtm = vec.fit_transform(df['text'])\n",
    "print(f'Shape of document-term matrix is {dtm.shape} and the number of tokens is {dtm.sum()}')"
   ]
  },
  {
   "cell_type": "code",
   "execution_count": 5,
   "metadata": {},
   "outputs": [],
   "source": [
    "import sklearn.decomposition as decomposition\n",
    "model = decomposition.LatentDirichletAllocation(n_components=100, learning_method='online', random_state=1)\n",
    "document_topic_distributions = model.fit_transform(dtm)"
   ]
  },
  {
   "cell_type": "code",
   "execution_count": 7,
   "metadata": {},
   "outputs": [],
   "source": [
    "vocabulary = vec.get_feature_names()"
   ]
  },
  {
   "cell_type": "code",
   "execution_count": 8,
   "metadata": {},
   "outputs": [],
   "source": [
    "assert model.components_.shape == (100, len(vocabulary))"
   ]
  },
  {
   "cell_type": "code",
   "execution_count": 9,
   "metadata": {},
   "outputs": [],
   "source": [
    "topic_names = [f'Topic {k}' for k in range(100)]\n",
    "topic_word_distributions = pd.DataFrame(model.components_, columns=vocabulary, index=topic_names)\n",
    "document_topic_distributions = pd.DataFrame(document_topic_distributions, columns=topic_names, index=df.index)"
   ]
  },
  {
   "cell_type": "code",
   "execution_count": 10,
   "metadata": {},
   "outputs": [
    {
     "data": {
      "text/html": [
       "<div>\n",
       "<style scoped>\n",
       "    .dataframe tbody tr th:only-of-type {\n",
       "        vertical-align: middle;\n",
       "    }\n",
       "\n",
       "    .dataframe tbody tr th {\n",
       "        vertical-align: top;\n",
       "    }\n",
       "\n",
       "    .dataframe thead th {\n",
       "        text-align: right;\n",
       "    }\n",
       "</style>\n",
       "<table border=\"1\" class=\"dataframe\">\n",
       "  <thead>\n",
       "    <tr style=\"text-align: right;\">\n",
       "      <th></th>\n",
       "      <th></th>\n",
       "      <th>Topic 0</th>\n",
       "      <th>Topic 1</th>\n",
       "      <th>Topic 2</th>\n",
       "      <th>Topic 3</th>\n",
       "      <th>Topic 4</th>\n",
       "      <th>Topic 5</th>\n",
       "      <th>Topic 6</th>\n",
       "      <th>Topic 7</th>\n",
       "      <th>Topic 8</th>\n",
       "      <th>Topic 9</th>\n",
       "      <th>...</th>\n",
       "      <th>Topic 90</th>\n",
       "      <th>Topic 91</th>\n",
       "      <th>Topic 92</th>\n",
       "      <th>Topic 93</th>\n",
       "      <th>Topic 94</th>\n",
       "      <th>Topic 95</th>\n",
       "      <th>Topic 96</th>\n",
       "      <th>Topic 97</th>\n",
       "      <th>Topic 98</th>\n",
       "      <th>Topic 99</th>\n",
       "    </tr>\n",
       "    <tr>\n",
       "      <th>author_name</th>\n",
       "      <th>federal_cite_one</th>\n",
       "      <th></th>\n",
       "      <th></th>\n",
       "      <th></th>\n",
       "      <th></th>\n",
       "      <th></th>\n",
       "      <th></th>\n",
       "      <th></th>\n",
       "      <th></th>\n",
       "      <th></th>\n",
       "      <th></th>\n",
       "      <th></th>\n",
       "      <th></th>\n",
       "      <th></th>\n",
       "      <th></th>\n",
       "      <th></th>\n",
       "      <th></th>\n",
       "      <th></th>\n",
       "      <th></th>\n",
       "      <th></th>\n",
       "      <th></th>\n",
       "      <th></th>\n",
       "    </tr>\n",
       "  </thead>\n",
       "  <tbody>\n",
       "    <tr>\n",
       "      <th>Justice Roberts</th>\n",
       "      <th>NaN</th>\n",
       "      <td>0.000002</td>\n",
       "      <td>0.000002</td>\n",
       "      <td>0.000002</td>\n",
       "      <td>0.000002</td>\n",
       "      <td>0.000002</td>\n",
       "      <td>0.000002</td>\n",
       "      <td>0.000002</td>\n",
       "      <td>0.000002</td>\n",
       "      <td>0.000002</td>\n",
       "      <td>0.000002</td>\n",
       "      <td>...</td>\n",
       "      <td>0.000002</td>\n",
       "      <td>0.000002</td>\n",
       "      <td>0.000002</td>\n",
       "      <td>0.002261</td>\n",
       "      <td>0.000002</td>\n",
       "      <td>0.000002</td>\n",
       "      <td>0.000850</td>\n",
       "      <td>0.000002</td>\n",
       "      <td>0.000002</td>\n",
       "      <td>0.198880</td>\n",
       "    </tr>\n",
       "    <tr>\n",
       "      <th>Justice Thomas</th>\n",
       "      <th>NaN</th>\n",
       "      <td>0.003246</td>\n",
       "      <td>0.000013</td>\n",
       "      <td>0.000013</td>\n",
       "      <td>0.000013</td>\n",
       "      <td>0.000013</td>\n",
       "      <td>0.000013</td>\n",
       "      <td>0.000013</td>\n",
       "      <td>0.000013</td>\n",
       "      <td>0.000013</td>\n",
       "      <td>0.000013</td>\n",
       "      <td>...</td>\n",
       "      <td>0.001644</td>\n",
       "      <td>0.000013</td>\n",
       "      <td>0.000013</td>\n",
       "      <td>0.000013</td>\n",
       "      <td>0.000013</td>\n",
       "      <td>0.000013</td>\n",
       "      <td>0.000013</td>\n",
       "      <td>0.000013</td>\n",
       "      <td>0.000013</td>\n",
       "      <td>0.172919</td>\n",
       "    </tr>\n",
       "    <tr>\n",
       "      <th>Justice Breyer</th>\n",
       "      <th>NaN</th>\n",
       "      <td>0.000002</td>\n",
       "      <td>0.000002</td>\n",
       "      <td>0.000002</td>\n",
       "      <td>0.000002</td>\n",
       "      <td>0.000002</td>\n",
       "      <td>0.000002</td>\n",
       "      <td>0.000002</td>\n",
       "      <td>0.000002</td>\n",
       "      <td>0.000215</td>\n",
       "      <td>0.000002</td>\n",
       "      <td>...</td>\n",
       "      <td>0.001048</td>\n",
       "      <td>0.000002</td>\n",
       "      <td>0.000002</td>\n",
       "      <td>0.000002</td>\n",
       "      <td>0.000002</td>\n",
       "      <td>0.000002</td>\n",
       "      <td>0.000002</td>\n",
       "      <td>0.000002</td>\n",
       "      <td>0.000002</td>\n",
       "      <td>0.151052</td>\n",
       "    </tr>\n",
       "    <tr>\n",
       "      <th>Justice Taney</th>\n",
       "      <th>40 U.S. 119</th>\n",
       "      <td>0.000063</td>\n",
       "      <td>0.000063</td>\n",
       "      <td>0.000063</td>\n",
       "      <td>0.000063</td>\n",
       "      <td>0.000063</td>\n",
       "      <td>0.000063</td>\n",
       "      <td>0.000063</td>\n",
       "      <td>0.000063</td>\n",
       "      <td>0.000063</td>\n",
       "      <td>0.000063</td>\n",
       "      <td>...</td>\n",
       "      <td>0.000063</td>\n",
       "      <td>0.000063</td>\n",
       "      <td>0.000063</td>\n",
       "      <td>0.000063</td>\n",
       "      <td>0.000063</td>\n",
       "      <td>0.000063</td>\n",
       "      <td>0.000063</td>\n",
       "      <td>0.000063</td>\n",
       "      <td>0.000063</td>\n",
       "      <td>0.000063</td>\n",
       "    </tr>\n",
       "    <tr>\n",
       "      <th>Justice Pitney</th>\n",
       "      <th>233 U.S. 546</th>\n",
       "      <td>0.000007</td>\n",
       "      <td>0.000007</td>\n",
       "      <td>0.000007</td>\n",
       "      <td>0.000007</td>\n",
       "      <td>0.000007</td>\n",
       "      <td>0.045091</td>\n",
       "      <td>0.000007</td>\n",
       "      <td>0.000007</td>\n",
       "      <td>0.000007</td>\n",
       "      <td>0.000007</td>\n",
       "      <td>...</td>\n",
       "      <td>0.000007</td>\n",
       "      <td>0.000007</td>\n",
       "      <td>0.000007</td>\n",
       "      <td>0.000007</td>\n",
       "      <td>0.006567</td>\n",
       "      <td>0.000007</td>\n",
       "      <td>0.000007</td>\n",
       "      <td>0.004247</td>\n",
       "      <td>0.000007</td>\n",
       "      <td>0.000007</td>\n",
       "    </tr>\n",
       "    <tr>\n",
       "      <th>Justice Harlan</th>\n",
       "      <th>105 U.S. 77</th>\n",
       "      <td>0.000005</td>\n",
       "      <td>0.099721</td>\n",
       "      <td>0.000005</td>\n",
       "      <td>0.001575</td>\n",
       "      <td>0.019138</td>\n",
       "      <td>0.352040</td>\n",
       "      <td>0.000005</td>\n",
       "      <td>0.000005</td>\n",
       "      <td>0.000005</td>\n",
       "      <td>0.000005</td>\n",
       "      <td>...</td>\n",
       "      <td>0.000005</td>\n",
       "      <td>0.046626</td>\n",
       "      <td>0.000005</td>\n",
       "      <td>0.000005</td>\n",
       "      <td>0.000005</td>\n",
       "      <td>0.002622</td>\n",
       "      <td>0.000005</td>\n",
       "      <td>0.001532</td>\n",
       "      <td>0.000005</td>\n",
       "      <td>0.000005</td>\n",
       "    </tr>\n",
       "    <tr>\n",
       "      <th>per_curiam</th>\n",
       "      <th>382 U.S. 39</th>\n",
       "      <td>0.000769</td>\n",
       "      <td>0.000769</td>\n",
       "      <td>0.000769</td>\n",
       "      <td>0.000769</td>\n",
       "      <td>0.000769</td>\n",
       "      <td>0.000769</td>\n",
       "      <td>0.077797</td>\n",
       "      <td>0.000769</td>\n",
       "      <td>0.000769</td>\n",
       "      <td>0.000769</td>\n",
       "      <td>...</td>\n",
       "      <td>0.000769</td>\n",
       "      <td>0.000769</td>\n",
       "      <td>0.000769</td>\n",
       "      <td>0.000769</td>\n",
       "      <td>0.000769</td>\n",
       "      <td>0.000769</td>\n",
       "      <td>0.000769</td>\n",
       "      <td>0.000769</td>\n",
       "      <td>0.000769</td>\n",
       "      <td>0.000769</td>\n",
       "    </tr>\n",
       "    <tr>\n",
       "      <th>Justice Miller</th>\n",
       "      <th>132 U.S. 118</th>\n",
       "      <td>0.000011</td>\n",
       "      <td>0.000011</td>\n",
       "      <td>0.000011</td>\n",
       "      <td>0.000011</td>\n",
       "      <td>0.027289</td>\n",
       "      <td>0.029741</td>\n",
       "      <td>0.000011</td>\n",
       "      <td>0.000011</td>\n",
       "      <td>0.000011</td>\n",
       "      <td>0.000011</td>\n",
       "      <td>...</td>\n",
       "      <td>0.000011</td>\n",
       "      <td>0.016678</td>\n",
       "      <td>0.000011</td>\n",
       "      <td>0.000011</td>\n",
       "      <td>0.000011</td>\n",
       "      <td>0.000011</td>\n",
       "      <td>0.000011</td>\n",
       "      <td>0.000011</td>\n",
       "      <td>0.000011</td>\n",
       "      <td>0.000011</td>\n",
       "    </tr>\n",
       "    <tr>\n",
       "      <th>Justice Frankfurter</th>\n",
       "      <th>NaN</th>\n",
       "      <td>0.000013</td>\n",
       "      <td>0.000013</td>\n",
       "      <td>0.000013</td>\n",
       "      <td>0.000013</td>\n",
       "      <td>0.000013</td>\n",
       "      <td>0.000013</td>\n",
       "      <td>0.068188</td>\n",
       "      <td>0.003049</td>\n",
       "      <td>0.001263</td>\n",
       "      <td>0.000013</td>\n",
       "      <td>...</td>\n",
       "      <td>0.000013</td>\n",
       "      <td>0.000013</td>\n",
       "      <td>0.000013</td>\n",
       "      <td>0.009533</td>\n",
       "      <td>0.000013</td>\n",
       "      <td>0.000013</td>\n",
       "      <td>0.000013</td>\n",
       "      <td>0.000013</td>\n",
       "      <td>0.000013</td>\n",
       "      <td>0.000013</td>\n",
       "    </tr>\n",
       "    <tr>\n",
       "      <th>Justice Swayne</th>\n",
       "      <th>92 U.S. 447</th>\n",
       "      <td>0.000030</td>\n",
       "      <td>0.000030</td>\n",
       "      <td>0.000030</td>\n",
       "      <td>0.000030</td>\n",
       "      <td>0.000030</td>\n",
       "      <td>0.016116</td>\n",
       "      <td>0.000030</td>\n",
       "      <td>0.000030</td>\n",
       "      <td>0.000030</td>\n",
       "      <td>0.000030</td>\n",
       "      <td>...</td>\n",
       "      <td>0.000030</td>\n",
       "      <td>0.092652</td>\n",
       "      <td>0.000030</td>\n",
       "      <td>0.007874</td>\n",
       "      <td>0.000030</td>\n",
       "      <td>0.092403</td>\n",
       "      <td>0.000030</td>\n",
       "      <td>0.000030</td>\n",
       "      <td>0.000030</td>\n",
       "      <td>0.000030</td>\n",
       "    </tr>\n",
       "  </tbody>\n",
       "</table>\n",
       "<p>10 rows × 100 columns</p>\n",
       "</div>"
      ],
      "text/plain": [
       "                                       Topic 0   Topic 1   Topic 2   Topic 3  \\\n",
       "author_name         federal_cite_one                                           \n",
       "Justice Roberts     NaN               0.000002  0.000002  0.000002  0.000002   \n",
       "Justice Thomas      NaN               0.003246  0.000013  0.000013  0.000013   \n",
       "Justice Breyer      NaN               0.000002  0.000002  0.000002  0.000002   \n",
       "Justice Taney       40 U.S. 119       0.000063  0.000063  0.000063  0.000063   \n",
       "Justice Pitney      233 U.S. 546      0.000007  0.000007  0.000007  0.000007   \n",
       "Justice Harlan      105 U.S. 77       0.000005  0.099721  0.000005  0.001575   \n",
       "per_curiam          382 U.S. 39       0.000769  0.000769  0.000769  0.000769   \n",
       "Justice Miller      132 U.S. 118      0.000011  0.000011  0.000011  0.000011   \n",
       "Justice Frankfurter NaN               0.000013  0.000013  0.000013  0.000013   \n",
       "Justice Swayne      92 U.S. 447       0.000030  0.000030  0.000030  0.000030   \n",
       "\n",
       "                                       Topic 4   Topic 5   Topic 6   Topic 7  \\\n",
       "author_name         federal_cite_one                                           \n",
       "Justice Roberts     NaN               0.000002  0.000002  0.000002  0.000002   \n",
       "Justice Thomas      NaN               0.000013  0.000013  0.000013  0.000013   \n",
       "Justice Breyer      NaN               0.000002  0.000002  0.000002  0.000002   \n",
       "Justice Taney       40 U.S. 119       0.000063  0.000063  0.000063  0.000063   \n",
       "Justice Pitney      233 U.S. 546      0.000007  0.045091  0.000007  0.000007   \n",
       "Justice Harlan      105 U.S. 77       0.019138  0.352040  0.000005  0.000005   \n",
       "per_curiam          382 U.S. 39       0.000769  0.000769  0.077797  0.000769   \n",
       "Justice Miller      132 U.S. 118      0.027289  0.029741  0.000011  0.000011   \n",
       "Justice Frankfurter NaN               0.000013  0.000013  0.068188  0.003049   \n",
       "Justice Swayne      92 U.S. 447       0.000030  0.016116  0.000030  0.000030   \n",
       "\n",
       "                                       Topic 8   Topic 9  ...  Topic 90  \\\n",
       "author_name         federal_cite_one                      ...             \n",
       "Justice Roberts     NaN               0.000002  0.000002  ...  0.000002   \n",
       "Justice Thomas      NaN               0.000013  0.000013  ...  0.001644   \n",
       "Justice Breyer      NaN               0.000215  0.000002  ...  0.001048   \n",
       "Justice Taney       40 U.S. 119       0.000063  0.000063  ...  0.000063   \n",
       "Justice Pitney      233 U.S. 546      0.000007  0.000007  ...  0.000007   \n",
       "Justice Harlan      105 U.S. 77       0.000005  0.000005  ...  0.000005   \n",
       "per_curiam          382 U.S. 39       0.000769  0.000769  ...  0.000769   \n",
       "Justice Miller      132 U.S. 118      0.000011  0.000011  ...  0.000011   \n",
       "Justice Frankfurter NaN               0.001263  0.000013  ...  0.000013   \n",
       "Justice Swayne      92 U.S. 447       0.000030  0.000030  ...  0.000030   \n",
       "\n",
       "                                      Topic 91  Topic 92  Topic 93  Topic 94  \\\n",
       "author_name         federal_cite_one                                           \n",
       "Justice Roberts     NaN               0.000002  0.000002  0.002261  0.000002   \n",
       "Justice Thomas      NaN               0.000013  0.000013  0.000013  0.000013   \n",
       "Justice Breyer      NaN               0.000002  0.000002  0.000002  0.000002   \n",
       "Justice Taney       40 U.S. 119       0.000063  0.000063  0.000063  0.000063   \n",
       "Justice Pitney      233 U.S. 546      0.000007  0.000007  0.000007  0.006567   \n",
       "Justice Harlan      105 U.S. 77       0.046626  0.000005  0.000005  0.000005   \n",
       "per_curiam          382 U.S. 39       0.000769  0.000769  0.000769  0.000769   \n",
       "Justice Miller      132 U.S. 118      0.016678  0.000011  0.000011  0.000011   \n",
       "Justice Frankfurter NaN               0.000013  0.000013  0.009533  0.000013   \n",
       "Justice Swayne      92 U.S. 447       0.092652  0.000030  0.007874  0.000030   \n",
       "\n",
       "                                      Topic 95  Topic 96  Topic 97  Topic 98  \\\n",
       "author_name         federal_cite_one                                           \n",
       "Justice Roberts     NaN               0.000002  0.000850  0.000002  0.000002   \n",
       "Justice Thomas      NaN               0.000013  0.000013  0.000013  0.000013   \n",
       "Justice Breyer      NaN               0.000002  0.000002  0.000002  0.000002   \n",
       "Justice Taney       40 U.S. 119       0.000063  0.000063  0.000063  0.000063   \n",
       "Justice Pitney      233 U.S. 546      0.000007  0.000007  0.004247  0.000007   \n",
       "Justice Harlan      105 U.S. 77       0.002622  0.000005  0.001532  0.000005   \n",
       "per_curiam          382 U.S. 39       0.000769  0.000769  0.000769  0.000769   \n",
       "Justice Miller      132 U.S. 118      0.000011  0.000011  0.000011  0.000011   \n",
       "Justice Frankfurter NaN               0.000013  0.000013  0.000013  0.000013   \n",
       "Justice Swayne      92 U.S. 447       0.092403  0.000030  0.000030  0.000030   \n",
       "\n",
       "                                      Topic 99  \n",
       "author_name         federal_cite_one            \n",
       "Justice Roberts     NaN               0.198880  \n",
       "Justice Thomas      NaN               0.172919  \n",
       "Justice Breyer      NaN               0.151052  \n",
       "Justice Taney       40 U.S. 119       0.000063  \n",
       "Justice Pitney      233 U.S. 546      0.000007  \n",
       "Justice Harlan      105 U.S. 77       0.000005  \n",
       "per_curiam          382 U.S. 39       0.000769  \n",
       "Justice Miller      132 U.S. 118      0.000011  \n",
       "Justice Frankfurter NaN               0.000013  \n",
       "Justice Swayne      92 U.S. 447       0.000030  \n",
       "\n",
       "[10 rows x 100 columns]"
      ]
     },
     "execution_count": 10,
     "metadata": {},
     "output_type": "execute_result"
    }
   ],
   "source": [
    "document_topic_distributions.head(10)"
   ]
  },
  {
   "cell_type": "code",
   "execution_count": 16,
   "metadata": {},
   "outputs": [],
   "source": [
    "document_topic_distributions.to_csv('doc_topic_distributions.csv', header=True)"
   ]
  },
  {
   "cell_type": "code",
   "execution_count": 11,
   "metadata": {},
   "outputs": [],
   "source": [
    "#document_topic_distributions.loc[df['scdb_id'] == '1972-048'].loc[df['author_name'] == 'Justice Blackmun'].head(10)"
   ]
  },
  {
   "cell_type": "code",
   "execution_count": 12,
   "metadata": {},
   "outputs": [],
   "source": [
    "#blackmun_majority = document_topic_distributions.loc[df['scdb_id'] == '1972-048'].loc[df['author_name'] == 'Justice Blackmun']"
   ]
  },
  {
   "cell_type": "code",
   "execution_count": 13,
   "metadata": {},
   "outputs": [],
   "source": [
    "#print(blackmun_majority.head(10))\n",
    "#blackmun_majority_trans = blackmun_majority.T\n",
    "#blackmun_majority_trans.sort_values(by=763, axis='index', ascending=False)\n"
   ]
  },
  {
   "cell_type": "code",
   "execution_count": 14,
   "metadata": {},
   "outputs": [
    {
     "data": {
      "text/plain": [
       "court               38925.602070\n",
       "constitutional      14481.241236\n",
       "amendment           13760.940662\n",
       "state               12001.374397\n",
       "clause              11513.080040\n",
       "supra               11493.734226\n",
       "does                 9916.986543\n",
       "process              9561.662956\n",
       "interests            9166.897700\n",
       "id                   8470.533092\n",
       "cases                8389.553767\n",
       "case                 8373.958783\n",
       "protection           7861.232569\n",
       "opinion              6554.309606\n",
       "government           6183.780194\n",
       "statute              6162.417769\n",
       "particular           5634.916511\n",
       "basis                5096.151209\n",
       "substantial          5070.480579\n",
       "judgment             4951.595172\n",
       "test                 4830.138313\n",
       "decision             4823.187180\n",
       "issue                4610.352405\n",
       "constitutionally     4587.236823\n",
       "governmental         4560.546322\n",
       "Name: Topic 83, dtype: float64"
      ]
     },
     "execution_count": 14,
     "metadata": {},
     "output_type": "execute_result"
    }
   ],
   "source": [
    "pd.set_option('display.max_rows', 500)\n",
    "pd.set_option('display.max_columns', 500)\n",
    "pd.set_option('display.width', 1000)\n",
    "topic_word_distributions.loc['Topic 83'].sort_values(ascending=False).head(25)"
   ]
  },
  {
   "cell_type": "code",
   "execution_count": 15,
   "metadata": {},
   "outputs": [
    {
     "data": {
      "text/plain": [
       "[Text(0.5, 0, 'Rank of mixing weight'),\n",
       " Text(0, 0.5, 'Probability'),\n",
       " (0.0, 25.0)]"
      ]
     },
     "execution_count": 15,
     "metadata": {},
     "output_type": "execute_result"
    },
    {
     "data": {
      "image/png": "[encoded data removed]",
      "text/plain": [
       "<Figure size 432x288 with 1 Axes>"
      ]
     },
     "metadata": {
      "needs_background": "light"
     },
     "output_type": "display_data"
    }
   ],
   "source": [
    "weights_sample = document_topic_distributions.sample(8)\n",
    "weights_ordered = weights_sample.apply(lambda row: row.sort_values(ascending=False).reset_index(drop=True), axis=1)\n",
    "ax = weights_ordered.T.plot()\n",
    "ax.set(xlabel='Rank of mixing weight', ylabel='Probability', xlim=(0, 25))"
   ]
  },
  {
   "cell_type": "code",
   "execution_count": null,
   "metadata": {},
   "outputs": [],
   "source": []
  }
 ],
 "metadata": {
  "kernelspec": {
   "display_name": "Python 3.9.12 ('victorian_authorship_env')",
   "language": "python",
   "name": "python3"
  },
  "language_info": {
   "codemirror_mode": {
    "name": "ipython",
    "version": 3
   },
   "file_extension": ".py",
   "mimetype": "text/x-python",
   "name": "python",
   "nbconvert_exporter": "python",
   "pygments_lexer": "ipython3",
   "version": "3.9.12"
  },
  "orig_nbformat": 4,
  "vscode": {
   "interpreter": {
    "hash": "ef5d861bb1be136369da2a14d97f47e042662aed23f513481be9d838db3326bb"
   }
  }
 },
 "nbformat": 4,
 "nbformat_minor": 2
}
